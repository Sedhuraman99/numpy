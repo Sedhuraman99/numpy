{
  "cells": [
    {
      "cell_type": "markdown",
      "metadata": {
        "id": "view-in-github",
        "colab_type": "text"
      },
      "source": [
        "<a href=\"https://colab.research.google.com/github/Sedhuraman99/numpy/blob/main/_Numpy_tasks.ipynb\" target=\"_parent\"><img src=\"https://colab.research.google.com/assets/colab-badge.svg\" alt=\"Open In Colab\"/></a>"
      ]
    },
    {
      "cell_type": "markdown",
      "metadata": {
        "id": "OU_KDt2As8vf"
      },
      "source": [
        "# Numpy\n",
        "\n"
      ]
    },
    {
      "cell_type": "markdown",
      "metadata": {
        "id": "b7lhvAjBs8vl"
      },
      "source": [
        "#### 1. Import the numpy package under the name `np` (★☆☆) \n",
        "(**hint**: import … as …)"
      ]
    },
    {
      "cell_type": "code",
      "execution_count": 1,
      "metadata": {
        "collapsed": true,
        "id": "l27Ilat7s8v2"
      },
      "outputs": [],
      "source": [
        "import numpy as np"
      ]
    },
    {
      "cell_type": "markdown",
      "metadata": {
        "id": "OvfSWRE1s8v3"
      },
      "source": [
        "#### 2. Print the numpy version and the configuration (★☆☆) \n",
        "(**hint**: np.\\_\\_version\\_\\_, np.show\\_config)"
      ]
    },
    {
      "cell_type": "code",
      "execution_count": null,
      "metadata": {
        "id": "9DkU9VSis8v4",
        "colab": {
          "base_uri": "https://localhost:8080/"
        },
        "outputId": "f9ea5520-4dbe-4e01-b5f8-7dea373b0ae7"
      },
      "outputs": [
        {
          "output_type": "stream",
          "name": "stdout",
          "text": [
            "blas_mkl_info:\n",
            "  NOT AVAILABLE\n",
            "blis_info:\n",
            "  NOT AVAILABLE\n",
            "openblas_info:\n",
            "    libraries = ['openblas', 'openblas']\n",
            "    library_dirs = ['/usr/local/lib']\n",
            "    language = c\n",
            "    define_macros = [('HAVE_CBLAS', None)]\n",
            "    runtime_library_dirs = ['/usr/local/lib']\n",
            "blas_opt_info:\n",
            "    libraries = ['openblas', 'openblas']\n",
            "    library_dirs = ['/usr/local/lib']\n",
            "    language = c\n",
            "    define_macros = [('HAVE_CBLAS', None)]\n",
            "    runtime_library_dirs = ['/usr/local/lib']\n",
            "lapack_mkl_info:\n",
            "  NOT AVAILABLE\n",
            "openblas_lapack_info:\n",
            "    libraries = ['openblas', 'openblas']\n",
            "    library_dirs = ['/usr/local/lib']\n",
            "    language = c\n",
            "    define_macros = [('HAVE_CBLAS', None)]\n",
            "    runtime_library_dirs = ['/usr/local/lib']\n",
            "lapack_opt_info:\n",
            "    libraries = ['openblas', 'openblas']\n",
            "    library_dirs = ['/usr/local/lib']\n",
            "    language = c\n",
            "    define_macros = [('HAVE_CBLAS', None)]\n",
            "    runtime_library_dirs = ['/usr/local/lib']\n",
            "Supported SIMD extensions in this NumPy install:\n",
            "    baseline = SSE,SSE2,SSE3\n",
            "    found = SSSE3,SSE41,POPCNT,SSE42,AVX,F16C,FMA3,AVX2\n",
            "    not found = AVX512F,AVX512CD,AVX512_KNL,AVX512_KNM,AVX512_SKX,AVX512_CLX,AVX512_CNL,AVX512_ICL\n"
          ]
        }
      ],
      "source": [
        "#np.__version__\n",
        "np.show_config()"
      ]
    },
    {
      "cell_type": "markdown",
      "metadata": {
        "id": "e_jq6X1Qs8v4"
      },
      "source": [
        "#### 3. Create a null vector of size 10 (★☆☆) \n",
        "(**hint**: np.zeros)"
      ]
    },
    {
      "cell_type": "code",
      "execution_count": null,
      "metadata": {
        "id": "aPTrbisns8v5",
        "colab": {
          "base_uri": "https://localhost:8080/"
        },
        "outputId": "7f630390-18d0-46c4-a4ee-fe5c32cc7eb5"
      },
      "outputs": [
        {
          "output_type": "stream",
          "name": "stdout",
          "text": [
            "[0. 0. 0. 0. 0. 0. 0. 0. 0. 0.]\n"
          ]
        }
      ],
      "source": [
        "Z = np.zeros(10)\n",
        "print(Z)"
      ]
    },
    {
      "cell_type": "markdown",
      "metadata": {
        "id": "GTdBSdg_s8v5"
      },
      "source": [
        "#### 4.  How to find the memory size of any array (★☆☆) \n",
        "(**hint**: size, itemsize)"
      ]
    },
    {
      "cell_type": "code",
      "execution_count": null,
      "metadata": {
        "id": "CkJMR6AIs8v6",
        "colab": {
          "base_uri": "https://localhost:8080/"
        },
        "outputId": "987f3c8e-b8d7-4505-e1d8-5d93e9003ad1"
      },
      "outputs": [
        {
          "output_type": "stream",
          "name": "stdout",
          "text": [
            "800 bytes\n"
          ]
        }
      ],
      "source": [
        "Z = np.zeros((10,10))\n",
        "print(\"%d bytes\" % (Z.size * Z.itemsize))"
      ]
    },
    {
      "cell_type": "markdown",
      "metadata": {
        "id": "QivVNIejs8v6"
      },
      "source": [
        "#### 5.  How to get the documentation of the numpy add function from the command line? (★☆☆) \n",
        "(**hint**: np.info)"
      ]
    },
    {
      "cell_type": "code",
      "execution_count": null,
      "metadata": {
        "collapsed": true,
        "id": "P3W2WoaMs8v7",
        "colab": {
          "base_uri": "https://localhost:8080/"
        },
        "outputId": "8896c993-fb47-4759-8b27-5b1f84801545"
      },
      "outputs": [
        {
          "output_type": "stream",
          "name": "stderr",
          "text": [
            "ERROR:root:File `'`python.py'` not found.\n"
          ]
        }
      ],
      "source": [
        "%run `python -c \"import numpy; numpy.info(numpy.add)\"`"
      ]
    },
    {
      "cell_type": "markdown",
      "metadata": {
        "id": "5Uxi5Go9s8v7"
      },
      "source": [
        "#### 6.  Create a null vector of size 10 but the fifth value which is 1 (★☆☆) \n",
        "(**hint**: array\\[4\\])"
      ]
    },
    {
      "cell_type": "code",
      "execution_count": null,
      "metadata": {
        "id": "IAI7oeles8v8",
        "colab": {
          "base_uri": "https://localhost:8080/"
        },
        "outputId": "681fa2e0-a7f3-40aa-d412-c9d27372ab8e"
      },
      "outputs": [
        {
          "output_type": "stream",
          "name": "stdout",
          "text": [
            "[0. 0. 0. 0. 1. 0. 0. 0. 0. 0.]\n"
          ]
        }
      ],
      "source": [
        "Z = np.zeros(10)\n",
        "Z[4] = 1\n",
        "print(Z)"
      ]
    },
    {
      "cell_type": "markdown",
      "metadata": {
        "id": "N0VW840Fs8v8"
      },
      "source": [
        "#### 7.  Create a vector with values ranging from 10 to 49 (★☆☆) \n",
        "(**hint**: np.arange)"
      ]
    },
    {
      "cell_type": "code",
      "execution_count": null,
      "metadata": {
        "id": "ZYVET-Ius8v9",
        "colab": {
          "base_uri": "https://localhost:8080/"
        },
        "outputId": "8fdd2851-18c9-44f1-facb-aa78c00d194f"
      },
      "outputs": [
        {
          "output_type": "stream",
          "name": "stdout",
          "text": [
            "[10 11 12 13 14 15 16 17 18 19 20 21 22 23 24 25 26 27 28 29 30 31 32 33\n",
            " 34 35 36 37 38 39 40 41 42 43 44 45 46 47 48 49]\n"
          ]
        }
      ],
      "source": [
        "Z = np.arange(10,50)\n",
        "print(Z)"
      ]
    },
    {
      "cell_type": "markdown",
      "metadata": {
        "id": "mRX_Ux2Cs8v9"
      },
      "source": [
        "#### 8.  Reverse a vector (first element becomes last) (★☆☆) \n",
        "(**hint**: array\\[::-1\\])"
      ]
    },
    {
      "cell_type": "code",
      "execution_count": null,
      "metadata": {
        "id": "bvsKuz-us8v-",
        "colab": {
          "base_uri": "https://localhost:8080/"
        },
        "outputId": "fa7a52ab-2d38-4298-e2f0-43b92c9a55aa"
      },
      "outputs": [
        {
          "output_type": "stream",
          "name": "stdout",
          "text": [
            "[49 48 47 46 45 44 43 42 41 40 39 38 37 36 35 34 33 32 31 30 29 28 27 26\n",
            " 25 24 23 22 21 20 19 18 17 16 15 14 13 12 11 10  9  8  7  6  5  4  3  2\n",
            "  1  0]\n"
          ]
        }
      ],
      "source": [
        "Z = np.arange(50)\n",
        "Z = Z[::-1]\n",
        "print(Z)"
      ]
    },
    {
      "cell_type": "markdown",
      "metadata": {
        "id": "EqNK1cKSs8v-"
      },
      "source": [
        "#### 9.  Create a 3x3 matrix with values ranging from 0 to 8 (★☆☆) \n",
        "(**hint**: reshape)"
      ]
    },
    {
      "cell_type": "code",
      "execution_count": null,
      "metadata": {
        "id": "N5ENSH76s8v-",
        "colab": {
          "base_uri": "https://localhost:8080/"
        },
        "outputId": "48b71e07-d2a6-41a5-9a36-c56e9bbbe54a"
      },
      "outputs": [
        {
          "output_type": "stream",
          "name": "stdout",
          "text": [
            "[[0 1 2]\n",
            " [3 4 5]\n",
            " [6 7 8]]\n"
          ]
        }
      ],
      "source": [
        "Z = np.arange(9).reshape(3, 3)\n",
        "print(Z)"
      ]
    },
    {
      "cell_type": "markdown",
      "metadata": {
        "id": "L-nSAVdNs8v_"
      },
      "source": [
        "#### 10. Find indices of non-zero elements from \\[1,2,0,0,4,0\\] (★☆☆) \n",
        "(**hint**: np.nonzero)"
      ]
    },
    {
      "cell_type": "code",
      "execution_count": null,
      "metadata": {
        "id": "uLelPD6Ks8v_",
        "colab": {
          "base_uri": "https://localhost:8080/"
        },
        "outputId": "adc689de-36ac-48c5-8a46-cef0e9e27c59"
      },
      "outputs": [
        {
          "output_type": "stream",
          "name": "stdout",
          "text": [
            "(array([0, 1, 4]),)\n"
          ]
        }
      ],
      "source": [
        "z = np.nonzero([1,2,0,0,4,0])\n",
        "print(z)"
      ]
    },
    {
      "cell_type": "markdown",
      "metadata": {
        "id": "4xtGHiK5s8wA"
      },
      "source": [
        "#### 11. Create a 3x3 identity matrix (★☆☆) \n",
        "(**hint**: np.eye)"
      ]
    },
    {
      "cell_type": "code",
      "execution_count": null,
      "metadata": {
        "id": "L50ebCTms8wA",
        "colab": {
          "base_uri": "https://localhost:8080/"
        },
        "outputId": "7584e61c-c124-44a8-b932-940e7e0b6af8"
      },
      "outputs": [
        {
          "output_type": "stream",
          "name": "stdout",
          "text": [
            "[[1. 0. 0.]\n",
            " [0. 1. 0.]\n",
            " [0. 0. 1.]]\n"
          ]
        }
      ],
      "source": [
        "Z = np.eye(3)\n",
        "print(Z)"
      ]
    },
    {
      "cell_type": "markdown",
      "metadata": {
        "id": "ql9iTvH_s8wA"
      },
      "source": [
        "#### 12. Create a 3x3x3 array with random values (★☆☆) \n",
        "(**hint**: np.random.random)"
      ]
    },
    {
      "cell_type": "code",
      "execution_count": 4,
      "metadata": {
        "collapsed": true,
        "id": "jJS4fehes8wB",
        "colab": {
          "base_uri": "https://localhost:8080/"
        },
        "outputId": "6be029d6-287f-49a2-f9da-0b1db495adf5"
      },
      "outputs": [
        {
          "output_type": "stream",
          "name": "stdout",
          "text": [
            "[[[0.55729872 0.77582882 0.99903479]\n",
            "  [0.16492332 0.72399028 0.05990664]\n",
            "  [0.38119726 0.56533964 0.91534204]]\n",
            "\n",
            " [[0.6798733  0.20903358 0.7601792 ]\n",
            "  [0.51622719 0.20102407 0.34316119]\n",
            "  [0.18067575 0.33432511 0.9797213 ]]\n",
            "\n",
            " [[0.75786789 0.48243816 0.73114974]\n",
            "  [0.63898734 0.74927339 0.65624379]\n",
            "  [0.15268996 0.24567854 0.14215807]]]\n"
          ]
        }
      ],
      "source": [
        "Z = np.random.random((3,3,3))\n",
        "print(Z)"
      ]
    },
    {
      "cell_type": "markdown",
      "metadata": {
        "id": "-fhsHMANs8wB"
      },
      "source": [
        "#### 13. Create a 10x10 array with random values and find the minimum and maximum values (★☆☆) \n",
        "(**hint**: min, max)"
      ]
    },
    {
      "cell_type": "code",
      "execution_count": 3,
      "metadata": {
        "id": "I0fsCnEhs8wB",
        "colab": {
          "base_uri": "https://localhost:8080/"
        },
        "outputId": "4c5dd57e-55c9-4d4f-faa6-0335c75b0117"
      },
      "outputs": [
        {
          "output_type": "stream",
          "name": "stdout",
          "text": [
            "0.02076837936277942 0.9831868594406786\n"
          ]
        }
      ],
      "source": [
        "Z = np.random.random((10,10))\n",
        "Zmin, Zmax = Z.min(), Z.max()\n",
        "print(Zmin, Zmax)"
      ]
    },
    {
      "cell_type": "markdown",
      "metadata": {
        "id": "9piZQJJfs8wC"
      },
      "source": [
        "#### 14. Create a random vector of size 30 and find the mean value (★☆☆) \n",
        "(**hint**: mean)"
      ]
    },
    {
      "cell_type": "code",
      "execution_count": 2,
      "metadata": {
        "id": "H7GrsD8es8wC",
        "colab": {
          "base_uri": "https://localhost:8080/"
        },
        "outputId": "c5edc469-a0f8-461a-c2a3-478589d1e837"
      },
      "outputs": [
        {
          "output_type": "stream",
          "name": "stdout",
          "text": [
            "0.4861541846891025\n"
          ]
        }
      ],
      "source": [
        "Z = np.random.random(30)\n",
        "m = Z.mean()\n",
        "print(m)"
      ]
    },
    {
      "cell_type": "markdown",
      "metadata": {
        "id": "iqa-V1xNs8wC"
      },
      "source": [
        "#### 15. Create a 2d array with 1 on the border and 0 inside (★☆☆) \n",
        "(**hint**: array\\[1:-1, 1:-1\\])"
      ]
    },
    {
      "cell_type": "code",
      "execution_count": null,
      "metadata": {
        "id": "IiiAdycbs8wD",
        "colab": {
          "base_uri": "https://localhost:8080/"
        },
        "outputId": "d46a18a4-fbc1-468a-9275-81c268efdc01"
      },
      "outputs": [
        {
          "output_type": "stream",
          "name": "stdout",
          "text": [
            "[[1. 1. 1. 1. 1. 1. 1. 1. 1. 1.]\n",
            " [1. 0. 0. 0. 0. 0. 0. 0. 0. 1.]\n",
            " [1. 0. 0. 0. 0. 0. 0. 0. 0. 1.]\n",
            " [1. 0. 0. 0. 0. 0. 0. 0. 0. 1.]\n",
            " [1. 0. 0. 0. 0. 0. 0. 0. 0. 1.]\n",
            " [1. 0. 0. 0. 0. 0. 0. 0. 0. 1.]\n",
            " [1. 0. 0. 0. 0. 0. 0. 0. 0. 1.]\n",
            " [1. 0. 0. 0. 0. 0. 0. 0. 0. 1.]\n",
            " [1. 0. 0. 0. 0. 0. 0. 0. 0. 1.]\n",
            " [1. 1. 1. 1. 1. 1. 1. 1. 1. 1.]]\n"
          ]
        }
      ],
      "source": [
        "Z = np.ones((10,10))\n",
        "Z[1:-1,1:-1] = 0\n",
        "print(Z)"
      ]
    },
    {
      "cell_type": "markdown",
      "metadata": {
        "id": "tqFIJfIWs8wD"
      },
      "source": [
        "#### 16. How to add a border (filled with 0's) around an existing array? (★☆☆) \n",
        "(**hint**: np.pad)"
      ]
    },
    {
      "cell_type": "code",
      "execution_count": null,
      "metadata": {
        "id": "WhDVGgF3s8wE",
        "colab": {
          "base_uri": "https://localhost:8080/"
        },
        "outputId": "61cb0738-5473-4e8d-e876-e048173ca806"
      },
      "outputs": [
        {
          "output_type": "stream",
          "name": "stdout",
          "text": [
            "[[0. 0. 0. 0. 0. 0. 0. 0. 0. 0.]\n",
            " [0. 1. 1. 1. 1. 1. 1. 1. 1. 0.]\n",
            " [0. 1. 1. 1. 1. 1. 1. 1. 1. 0.]\n",
            " [0. 1. 1. 1. 1. 1. 1. 1. 1. 0.]\n",
            " [0. 1. 1. 1. 1. 1. 1. 1. 1. 0.]\n",
            " [0. 1. 1. 1. 1. 1. 1. 1. 1. 0.]\n",
            " [0. 1. 1. 1. 1. 1. 1. 1. 1. 0.]\n",
            " [0. 1. 1. 1. 1. 1. 1. 1. 1. 0.]\n",
            " [0. 1. 1. 1. 1. 1. 1. 1. 1. 0.]\n",
            " [0. 0. 0. 0. 0. 0. 0. 0. 0. 0.]]\n"
          ]
        }
      ],
      "source": [
        "Z[:, [0, -1]] = 0\n",
        "Z[[0, -1], :] = 0\n",
        "print(Z)"
      ]
    },
    {
      "cell_type": "markdown",
      "metadata": {
        "id": "0FxtpTB0s8wE"
      },
      "source": [
        "#### 17. What is the result of the following expression? (★☆☆) \n",
        "(**hint**: NaN = not a number, inf = infinity)"
      ]
    },
    {
      "cell_type": "markdown",
      "metadata": {
        "id": "Z7EZjEFfs8wF"
      },
      "source": [
        "```python\n",
        "0 * np.nan\n",
        "np.nan == np.nan\n",
        "np.inf > np.nan\n",
        "np.nan - np.nan\n",
        "0.3 == 3 * 0.1\n",
        "```"
      ]
    },
    {
      "cell_type": "code",
      "execution_count": 5,
      "metadata": {
        "id": "sSmyegVds8wF",
        "colab": {
          "base_uri": "https://localhost:8080/"
        },
        "outputId": "cc9ad5ef-27fc-467d-cf36-9d596a51e667"
      },
      "outputs": [
        {
          "output_type": "execute_result",
          "data": {
            "text/plain": [
              "False"
            ]
          },
          "metadata": {},
          "execution_count": 5
        }
      ],
      "source": [
        "0 * np.nan\n",
        "np.nan == np.nan\n",
        "np.inf > np.nan\n",
        "np.nan - np.nan\n",
        "0.3 == 3 * 0.1"
      ]
    },
    {
      "cell_type": "markdown",
      "metadata": {
        "id": "iXExAoqUs8wG"
      },
      "source": [
        "#### 18. Create a 5x5 matrix with values 1,2,3,4 just below the diagonal (★☆☆) \n",
        "(**hint**: np.diag)"
      ]
    },
    {
      "cell_type": "code",
      "execution_count": 6,
      "metadata": {
        "id": "cQohoHXes8wG",
        "colab": {
          "base_uri": "https://localhost:8080/"
        },
        "outputId": "17635285-0da2-4848-8554-a875bcf42352"
      },
      "outputs": [
        {
          "output_type": "stream",
          "name": "stdout",
          "text": [
            "[[0 0 0 0 0]\n",
            " [1 0 0 0 0]\n",
            " [0 2 0 0 0]\n",
            " [0 0 3 0 0]\n",
            " [0 0 0 4 0]]\n"
          ]
        }
      ],
      "source": [
        "Z = np.diag(1+np.arange(4),k=-1)\n",
        "print(Z)"
      ]
    },
    {
      "cell_type": "markdown",
      "metadata": {
        "id": "vec946ews8wH"
      },
      "source": [
        "#### 19. Create a 8x8 matrix and fill it with a checkerboard pattern (★☆☆) \n",
        "(**hint**: array\\[::2\\])"
      ]
    },
    {
      "cell_type": "code",
      "execution_count": null,
      "metadata": {
        "id": "5WVB6_-ps8wH",
        "colab": {
          "base_uri": "https://localhost:8080/"
        },
        "outputId": "9f573e4b-d9ba-4aa0-a50c-9e554c774f85"
      },
      "outputs": [
        {
          "output_type": "stream",
          "name": "stdout",
          "text": [
            "[[0 1 0 1 0 1 0 1]\n",
            " [1 0 1 0 1 0 1 0]\n",
            " [0 1 0 1 0 1 0 1]\n",
            " [1 0 1 0 1 0 1 0]\n",
            " [0 1 0 1 0 1 0 1]\n",
            " [1 0 1 0 1 0 1 0]\n",
            " [0 1 0 1 0 1 0 1]\n",
            " [1 0 1 0 1 0 1 0]]\n"
          ]
        }
      ],
      "source": [
        "Z = np.zeros((8,8),dtype=int)\n",
        "Z[1::2,::2] = 1\n",
        "Z[::2,1::2] = 1\n",
        "print(Z)"
      ]
    },
    {
      "cell_type": "markdown",
      "metadata": {
        "id": "V767-8k9s8wH"
      },
      "source": [
        "#### 20. Consider a (6,7,8) shape array, what is the index (x,y,z) of the 100th element? \n",
        "(**hint**: np.unravel_index)"
      ]
    },
    {
      "cell_type": "code",
      "execution_count": null,
      "metadata": {
        "id": "Flv-G_8qs8wI",
        "colab": {
          "base_uri": "https://localhost:8080/"
        },
        "outputId": "89992c1d-4564-4c96-9d7d-cecb3d069569"
      },
      "outputs": [
        {
          "output_type": "stream",
          "name": "stdout",
          "text": [
            "(1, 5, 3)\n"
          ]
        }
      ],
      "source": [
        "print(np.unravel_index(99,(6,7,8)))"
      ]
    },
    {
      "cell_type": "markdown",
      "metadata": {
        "id": "16pIQqm2s8wI"
      },
      "source": [
        "#### 21. Create a checkerboard 8x8 matrix using the tile function (★☆☆) \n",
        "(**hint**: np.tile)"
      ]
    },
    {
      "cell_type": "code",
      "execution_count": null,
      "metadata": {
        "id": "VAxJ5vwhs8wJ",
        "colab": {
          "base_uri": "https://localhost:8080/"
        },
        "outputId": "3a2f63c5-8f08-466f-eb33-dc2388a0dcd8"
      },
      "outputs": [
        {
          "output_type": "stream",
          "name": "stdout",
          "text": [
            "[[0 1 0 1 0 1 0 1]\n",
            " [1 0 1 0 1 0 1 0]\n",
            " [0 1 0 1 0 1 0 1]\n",
            " [1 0 1 0 1 0 1 0]\n",
            " [0 1 0 1 0 1 0 1]\n",
            " [1 0 1 0 1 0 1 0]\n",
            " [0 1 0 1 0 1 0 1]\n",
            " [1 0 1 0 1 0 1 0]]\n"
          ]
        }
      ],
      "source": [
        "Z = np.tile( np.array([[0,1],[1,0]]), (4,4))\n",
        "print(Z)"
      ]
    },
    {
      "cell_type": "markdown",
      "metadata": {
        "id": "0S_ZUE5ss8wJ"
      },
      "source": [
        "#### 22. Normalize a 5x5 random matrix (★☆☆) \n",
        "(**hint**: (x - min) / (max - min))"
      ]
    },
    {
      "cell_type": "code",
      "execution_count": null,
      "metadata": {
        "id": "xwWwFLOes8wJ",
        "colab": {
          "base_uri": "https://localhost:8080/"
        },
        "outputId": "53d1b596-7596-40ed-e322-2e60f68f286b"
      },
      "outputs": [
        {
          "output_type": "stream",
          "name": "stdout",
          "text": [
            "[[ 0.21089583  0.53117267  0.2789592  -1.67526436  1.07042959]\n",
            " [ 0.93270145  0.56656039 -0.56235571  1.59555388 -0.65145414]\n",
            " [-0.94920785 -0.93913669 -1.5033033  -0.42185562  1.55408111]\n",
            " [-1.38962047  0.56950211 -0.52593568 -0.38984408  1.65168158]\n",
            " [-1.7435746   0.02015299  0.46168475  0.58865468  0.71952228]]\n"
          ]
        }
      ],
      "source": [
        "Z = np.random.random((5,5))\n",
        "Z = (Z - np.mean (Z)) / (np.std (Z))\n",
        "print(Z)"
      ]
    },
    {
      "cell_type": "markdown",
      "metadata": {
        "id": "kS1gx3OZs8wK"
      },
      "source": [
        "#### 23. Create a custom dtype that describes a color as four unsigned bytes (RGBA) (★☆☆) \n",
        "(**hint**: np.dtype)"
      ]
    },
    {
      "cell_type": "code",
      "execution_count": 7,
      "metadata": {
        "collapsed": true,
        "id": "kRj91JRws8wK"
      },
      "outputs": [],
      "source": [
        "color = np.dtype([(\"r\", np.ubyte),\n",
        "                  (\"g\", np.ubyte),\n",
        "                  (\"b\", np.ubyte),\n",
        "                  (\"a\", np.ubyte)])"
      ]
    },
    {
      "cell_type": "markdown",
      "metadata": {
        "id": "vY9MLieis8wK"
      },
      "source": [
        "#### 24. Multiply a 5x3 matrix by a 3x2 matrix (real matrix product) (★☆☆) \n",
        "(**hint**: np.dot | @)"
      ]
    },
    {
      "cell_type": "code",
      "execution_count": null,
      "metadata": {
        "id": "cfwNoC5us8wL",
        "colab": {
          "base_uri": "https://localhost:8080/"
        },
        "outputId": "d3a1d4fc-6225-46a5-d6cc-52614546ca38"
      },
      "outputs": [
        {
          "output_type": "stream",
          "name": "stdout",
          "text": [
            "[[0.83228123 0.84816917]\n",
            " [0.99178039 0.93962183]\n",
            " [0.83819745 0.80233099]\n",
            " [1.43074141 1.35991505]\n",
            " [1.25842771 0.97949314]]\n"
          ]
        }
      ],
      "source": [
        "x = np.random.random((5,3))\n",
        "y = np.random.random((3,2))\n",
        "z = np.dot(x, y)\n",
        "print(z)"
      ]
    },
    {
      "cell_type": "markdown",
      "metadata": {
        "id": "ah5gS6Zvs8wL"
      },
      "source": [
        "#### 25. Given a 1D array, negate all elements which are between 3 and 8, in place. (★☆☆) \n",
        "(**hint**: >, <=)"
      ]
    },
    {
      "cell_type": "code",
      "execution_count": null,
      "metadata": {
        "id": "BhXTNh3ms8wL",
        "colab": {
          "base_uri": "https://localhost:8080/"
        },
        "outputId": "bf18b91f-1001-4fae-cee8-589d1e3e4489"
      },
      "outputs": [
        {
          "output_type": "stream",
          "name": "stdout",
          "text": [
            "[ 0  1  2  3 -4 -5 -6 -7  8  9 10]\n"
          ]
        }
      ],
      "source": [
        "Z = np.arange(11)\n",
        "Z[(3 < Z) & (Z < 8)] *= -1\n",
        "print(Z)"
      ]
    },
    {
      "cell_type": "markdown",
      "metadata": {
        "id": "cQHWhQjPs8wM"
      },
      "source": [
        "#### 26. What is the output of the following script? (★☆☆) \n",
        "(**hint**: np.sum)"
      ]
    },
    {
      "cell_type": "markdown",
      "metadata": {
        "id": "pnpIC7fOs8wM"
      },
      "source": [
        "```python\n",
        "# Author: Jake VanderPlas\n",
        "\n",
        "print(sum(range(5),-1))\n",
        "from numpy import *\n",
        "print(sum(range(5),-1))\n",
        "```"
      ]
    },
    {
      "cell_type": "code",
      "execution_count": null,
      "metadata": {
        "id": "rL8N1TMcs8wN",
        "colab": {
          "base_uri": "https://localhost:8080/"
        },
        "outputId": "95485d6d-bbea-4136-bbbc-e72c1b8fdef6"
      },
      "outputs": [
        {
          "output_type": "stream",
          "name": "stdout",
          "text": [
            "9\n",
            "10\n"
          ]
        }
      ],
      "source": [
        "print(sum(range(5),-1))\n",
        "from numpy import *\n",
        "print(sum(range(5),-1))"
      ]
    },
    {
      "cell_type": "markdown",
      "metadata": {
        "id": "AHjv6NHxs8wN"
      },
      "source": [
        "#### 27. Consider an integer vector Z, which of these expressions are legal? (★☆☆)"
      ]
    },
    {
      "cell_type": "markdown",
      "metadata": {
        "id": "-8s1-z7Is8wN"
      },
      "source": [
        "```python\n",
        "Z**Z\n",
        "2 << Z >> 2\n",
        "Z <- Z\n",
        "1j*Z\n",
        "Z/1/1\n",
        "Z<Z>Z\n",
        "```"
      ]
    },
    {
      "cell_type": "code",
      "execution_count": null,
      "metadata": {
        "id": "R_e0mqMIs8wO"
      },
      "outputs": [],
      "source": [
        "Z**Z\n",
        "2 << Z >> 2\n",
        "Z <- Z\n",
        "1j*Z\n",
        "Z/1/1\n",
        "Z<Z>Z"
      ]
    },
    {
      "cell_type": "markdown",
      "metadata": {
        "id": "vXzFWNSRs8wO"
      },
      "source": [
        "#### 28. What are the result of the following expressions?"
      ]
    },
    {
      "cell_type": "markdown",
      "metadata": {
        "id": "Iy3_eKNis8wO"
      },
      "source": [
        "```python\n",
        "np.array(0) / np.array(0)\n",
        "np.array(0) // np.array(0)\n",
        "np.array([np.nan]).astype(int).astype(float)\n",
        "```"
      ]
    },
    {
      "cell_type": "code",
      "execution_count": null,
      "metadata": {
        "id": "3A32M0uLs8wP",
        "colab": {
          "base_uri": "https://localhost:8080/"
        },
        "outputId": "5d59855a-5c24-40a2-8d46-c47ab3429dff"
      },
      "outputs": [
        {
          "output_type": "stream",
          "name": "stdout",
          "text": [
            "nan\n",
            "0\n",
            "[-9.22337204e+18]\n"
          ]
        },
        {
          "output_type": "stream",
          "name": "stderr",
          "text": [
            "/usr/local/lib/python3.7/dist-packages/ipykernel_launcher.py:1: RuntimeWarning: invalid value encountered in true_divide\n",
            "  \"\"\"Entry point for launching an IPython kernel.\n",
            "/usr/local/lib/python3.7/dist-packages/ipykernel_launcher.py:2: RuntimeWarning: divide by zero encountered in floor_divide\n",
            "  \n"
          ]
        }
      ],
      "source": [
        "print(np.array(0) / np.array(0))\n",
        "print(np.array(0) // np.array(0))\n",
        "print(np.array([np.nan]).astype(int).astype(float))"
      ]
    },
    {
      "cell_type": "markdown",
      "metadata": {
        "id": "BunVPbuOs8wP"
      },
      "source": [
        "#### 29. How to round away from zero a float array ? (★☆☆) \n",
        "(**hint**: np.uniform, np.copysign, np.ceil, np.abs)"
      ]
    },
    {
      "cell_type": "code",
      "execution_count": null,
      "metadata": {
        "id": "Dnbs33rss8wQ",
        "colab": {
          "base_uri": "https://localhost:8080/"
        },
        "outputId": "0b528b87-81d0-4cc2-e2a2-9a9b4ae08333"
      },
      "outputs": [
        {
          "output_type": "stream",
          "name": "stdout",
          "text": [
            "[-5. -2.  5. -6.  9. 10. -2. 10. -3.  9.]\n"
          ]
        }
      ],
      "source": [
        "Z = np.random.uniform(-10,+10,10)\n",
        "print((np.copysign(np.ceil(np.abs(Z)), Z)))"
      ]
    },
    {
      "cell_type": "markdown",
      "metadata": {
        "id": "hHsLcIYKs8wQ"
      },
      "source": [
        "#### 30. How to find common values between two arrays? (★☆☆) \n",
        "(**hint**: np.intersect1d)"
      ]
    },
    {
      "cell_type": "code",
      "execution_count": null,
      "metadata": {
        "id": "rIZ2-pzAs8wQ",
        "colab": {
          "base_uri": "https://localhost:8080/"
        },
        "outputId": "2c49ccf5-3a22-4c1a-bde5-db90e781aff6"
      },
      "outputs": [
        {
          "output_type": "stream",
          "name": "stdout",
          "text": [
            "[0 2 7 9]\n"
          ]
        }
      ],
      "source": [
        "Z1 = np.random.randint(0,10,10)\n",
        "Z2 = np.random.randint(0,10,10)\n",
        "print(np.intersect1d(Z1,Z2))"
      ]
    },
    {
      "cell_type": "markdown",
      "metadata": {
        "id": "wPMCVUYzs8wR"
      },
      "source": [
        "#### 31. How to ignore all numpy warnings (not recommended)? (★☆☆) \n",
        "(**hint**: np.seterr, np.errstate)"
      ]
    },
    {
      "cell_type": "code",
      "execution_count": null,
      "metadata": {
        "id": "AL8q8_oRs8wR"
      },
      "outputs": [],
      "source": [
        "#defaults = np.seterr(all=\"ignore\")\n",
        "#Z = np.ones(1) / 0\n",
        "\n",
        "#_ = np.seterr(**defaults)\n"
      ]
    },
    {
      "cell_type": "markdown",
      "metadata": {
        "id": "dNpU-SlTs8wR"
      },
      "source": [
        "#### 32. Is the following expressions true? (★☆☆) \n",
        "(**hint**: imaginary number)"
      ]
    },
    {
      "cell_type": "markdown",
      "metadata": {
        "id": "DJhx0nzJs8wS"
      },
      "source": [
        "```python\n",
        "np.sqrt(-1) == np.emath.sqrt(-1)\n",
        "```"
      ]
    },
    {
      "cell_type": "code",
      "execution_count": null,
      "metadata": {
        "id": "chkdq3Dts8wS",
        "colab": {
          "base_uri": "https://localhost:8080/"
        },
        "outputId": "c59fca79-b903-4e76-91ea-40a464634b54"
      },
      "outputs": [
        {
          "output_type": "stream",
          "name": "stderr",
          "text": [
            "/usr/local/lib/python3.7/dist-packages/ipykernel_launcher.py:1: RuntimeWarning: invalid value encountered in sqrt\n",
            "  \"\"\"Entry point for launching an IPython kernel.\n"
          ]
        },
        {
          "output_type": "execute_result",
          "data": {
            "text/plain": [
              "False"
            ]
          },
          "metadata": {},
          "execution_count": 6
        }
      ],
      "source": [
        "np.sqrt(-1) == np.emath.sqrt(-1)"
      ]
    },
    {
      "cell_type": "markdown",
      "metadata": {
        "id": "tgRyqIMKs8wS"
      },
      "source": [
        "#### 33. How to get the dates of yesterday, today and tomorrow? (★☆☆) \n",
        "(**hint**: np.datetime64, np.timedelta64)"
      ]
    },
    {
      "cell_type": "code",
      "execution_count": null,
      "metadata": {
        "collapsed": true,
        "id": "0VhcAp7Fs8wT"
      },
      "outputs": [],
      "source": [
        "yesterday = np.datetime64('today') - np.timedelta64(1)\n",
        "today     = np.datetime64('today')\n",
        "tomorrow  = np.datetime64('today') + np.timedelta64(1)"
      ]
    },
    {
      "cell_type": "markdown",
      "metadata": {
        "id": "OXeSv3DSs8wT"
      },
      "source": [
        "#### 34. How to get all the dates corresponding to the month of July 2016? (★★☆) \n",
        "(**hint**: np.arange(dtype=datetime64\\['D'\\]))"
      ]
    },
    {
      "cell_type": "code",
      "execution_count": null,
      "metadata": {
        "id": "eL6vdwiTs8wU",
        "colab": {
          "base_uri": "https://localhost:8080/"
        },
        "outputId": "a7b1ab35-51ef-483b-b915-4a2a43a53ad2"
      },
      "outputs": [
        {
          "output_type": "stream",
          "name": "stdout",
          "text": [
            "['2016-07-01' '2016-07-02' '2016-07-03' '2016-07-04' '2016-07-05'\n",
            " '2016-07-06' '2016-07-07' '2016-07-08' '2016-07-09' '2016-07-10'\n",
            " '2016-07-11' '2016-07-12' '2016-07-13' '2016-07-14' '2016-07-15'\n",
            " '2016-07-16' '2016-07-17' '2016-07-18' '2016-07-19' '2016-07-20'\n",
            " '2016-07-21' '2016-07-22' '2016-07-23' '2016-07-24' '2016-07-25'\n",
            " '2016-07-26' '2016-07-27' '2016-07-28' '2016-07-29' '2016-07-30'\n",
            " '2016-07-31']\n"
          ]
        }
      ],
      "source": [
        "Z = np.arange('2016-07', '2016-08', dtype='datetime64[D]')\n",
        "print(Z)"
      ]
    },
    {
      "cell_type": "markdown",
      "metadata": {
        "id": "c__i1vIJs8wU"
      },
      "source": [
        "#### 35. How to compute ((A+B)\\*(-A/2)) in place (without copy)? (★★☆) \n",
        "(**hint**: np.add(out=), np.negative(out=), np.multiply(out=), np.divide(out=))"
      ]
    },
    {
      "cell_type": "code",
      "execution_count": null,
      "metadata": {
        "id": "eBt9QCdjs8wU",
        "colab": {
          "base_uri": "https://localhost:8080/"
        },
        "outputId": "b135fcee-c8d2-4551-a3b2-81f2288fce41"
      },
      "outputs": [
        {
          "output_type": "execute_result",
          "data": {
            "text/plain": [
              "array([-1.5, -1.5, -1.5])"
            ]
          },
          "metadata": {},
          "execution_count": 9
        }
      ],
      "source": [
        "A = np.ones(3)*1\n",
        "B = np.ones(3)*2\n",
        "np.add(A,B,out=B)\n",
        "np.divide(A,2,out=A)\n",
        "np.negative(A,out=A)\n",
        "np.multiply(A,B,out=A)"
      ]
    },
    {
      "cell_type": "markdown",
      "metadata": {
        "id": "7fJNLMmNs8wV"
      },
      "source": [
        "#### 36. Extract the integer part of a random array using 5 different methods (★★☆) \n",
        "(**hint**: %, np.floor, np.ceil, astype, np.trunc)"
      ]
    },
    {
      "cell_type": "code",
      "execution_count": null,
      "metadata": {
        "id": "OREGEk4Fs8wV",
        "colab": {
          "base_uri": "https://localhost:8080/"
        },
        "outputId": "e0a56b7b-888f-4310-9f93-4c2162ace256"
      },
      "outputs": [
        {
          "output_type": "stream",
          "name": "stdout",
          "text": [
            "[9. 3. 5. 2. 0. 9. 5. 1. 9. 5.]\n",
            "[9. 3. 5. 2. 0. 9. 5. 1. 9. 5.]\n",
            "[9. 3. 5. 2. 0. 9. 5. 1. 9. 5.]\n",
            "[9 3 5 2 0 9 5 1 9 5]\n",
            "[9. 3. 5. 2. 0. 9. 5. 1. 9. 5.]\n"
          ]
        }
      ],
      "source": [
        "Z = np.random.uniform(0,10,10)\n",
        "\n",
        "print(Z - Z%1)\n",
        "print(Z // 1)\n",
        "print(np.floor(Z))\n",
        "print(Z.astype(int))\n",
        "print(np.trunc(Z))"
      ]
    },
    {
      "cell_type": "markdown",
      "metadata": {
        "id": "7EDAv_rVs8wW"
      },
      "source": [
        "#### 37. Create a 5x5 matrix with row values ranging from 0 to 4 (★★☆) \n",
        "(**hint**: np.arange)"
      ]
    },
    {
      "cell_type": "code",
      "execution_count": null,
      "metadata": {
        "id": "Q4zrgf-rs8wX",
        "colab": {
          "base_uri": "https://localhost:8080/"
        },
        "outputId": "16d5dc67-e52e-48a3-9842-2b2d7c098f73"
      },
      "outputs": [
        {
          "output_type": "stream",
          "name": "stdout",
          "text": [
            "[[0. 1. 2. 3. 4.]\n",
            " [0. 1. 2. 3. 4.]\n",
            " [0. 1. 2. 3. 4.]\n",
            " [0. 1. 2. 3. 4.]\n",
            " [0. 1. 2. 3. 4.]]\n",
            "[[0 1 2 3 4]\n",
            " [0 1 2 3 4]\n",
            " [0 1 2 3 4]\n",
            " [0 1 2 3 4]\n",
            " [0 1 2 3 4]]\n"
          ]
        }
      ],
      "source": [
        "Z = np.zeros((5,5))\n",
        "Z += np.arange(5)\n",
        "print(Z)\n",
        "\n",
        "# without broadcasting\n",
        "Z = np.tile(np.arange(0, 5), (5,1))\n",
        "print(Z)"
      ]
    },
    {
      "cell_type": "markdown",
      "metadata": {
        "id": "yYS8Zhn9s8wX"
      },
      "source": [
        "#### 38. Consider a generator function that generates 10 integers and use it to build an array (★☆☆) \n",
        "(**hint**: np.fromiter)"
      ]
    },
    {
      "cell_type": "code",
      "execution_count": null,
      "metadata": {
        "id": "azyjG1n9s8wY",
        "colab": {
          "base_uri": "https://localhost:8080/"
        },
        "outputId": "fe52f74b-bab2-4e91-a313-eccf3c513eff"
      },
      "outputs": [
        {
          "output_type": "stream",
          "name": "stdout",
          "text": [
            "[0. 1. 2. 3. 4. 5. 6. 7. 8. 9.]\n"
          ]
        }
      ],
      "source": [
        "def generate():\n",
        "    for x in range(10):\n",
        "        yield x\n",
        "Z = np.fromiter(generate(),dtype=float,count=-1)\n",
        "print(Z)"
      ]
    },
    {
      "cell_type": "markdown",
      "metadata": {
        "id": "ewuKxjoVs8wY"
      },
      "source": [
        "#### 39. Create a vector of size 10 with values ranging from 0 to 1, both excluded (★★☆) \n",
        "(**hint**: np.linspace)"
      ]
    },
    {
      "cell_type": "code",
      "execution_count": null,
      "metadata": {
        "id": "O3aigx37s8wZ",
        "colab": {
          "base_uri": "https://localhost:8080/"
        },
        "outputId": "796d455e-b1f8-47f2-842f-4d0f62076391"
      },
      "outputs": [
        {
          "output_type": "stream",
          "name": "stdout",
          "text": [
            "[0.09090909 0.18181818 0.27272727 0.36363636 0.45454545 0.54545455\n",
            " 0.63636364 0.72727273 0.81818182 0.90909091]\n"
          ]
        }
      ],
      "source": [
        "Z = np.linspace(0,1,11,endpoint=False)[1:]\n",
        "print(Z)"
      ]
    },
    {
      "cell_type": "markdown",
      "metadata": {
        "id": "Ilb3-dIds8wa"
      },
      "source": [
        "#### 40. Create a random vector of size 10 and sort it (★★☆) \n",
        "(**hint**: sort)"
      ]
    },
    {
      "cell_type": "code",
      "execution_count": null,
      "metadata": {
        "id": "Dko62xzGs8wa",
        "colab": {
          "base_uri": "https://localhost:8080/"
        },
        "outputId": "15c067d1-1ef5-41d6-fa2b-965647eb8a08"
      },
      "outputs": [
        {
          "output_type": "stream",
          "name": "stdout",
          "text": [
            "[0.09835004 0.16884318 0.61276078 0.74638823 0.81120411 0.81318692\n",
            " 0.81487963 0.88518481 0.88992712 0.89659929]\n"
          ]
        }
      ],
      "source": [
        "Z = np.random.random(10)\n",
        "Z.sort()\n",
        "print(Z)"
      ]
    },
    {
      "cell_type": "markdown",
      "metadata": {
        "id": "YGOktwrPs8wb"
      },
      "source": [
        "#### 41. How to sum a small array faster than np.sum? (★★☆) \n",
        "(**hint**: np.add.reduce)"
      ]
    },
    {
      "cell_type": "code",
      "execution_count": null,
      "metadata": {
        "id": "Fchpq6J8s8wb",
        "colab": {
          "base_uri": "https://localhost:8080/"
        },
        "outputId": "6cabd690-2096-473e-cf80-e9c62b2d198f"
      },
      "outputs": [
        {
          "output_type": "execute_result",
          "data": {
            "text/plain": [
              "45"
            ]
          },
          "metadata": {},
          "execution_count": 15
        }
      ],
      "source": [
        "Z = np.arange(10)\n",
        "np.add.reduce(Z)"
      ]
    },
    {
      "cell_type": "markdown",
      "metadata": {
        "id": "IxkplL0gs8wc"
      },
      "source": [
        "#### 42. Consider two random array A and B, check if they are equal (★★☆) \n",
        "(**hint**: np.allclose, np.array\\_equal)"
      ]
    },
    {
      "cell_type": "code",
      "execution_count": null,
      "metadata": {
        "id": "HBBE3J8Zs8wc",
        "colab": {
          "base_uri": "https://localhost:8080/"
        },
        "outputId": "de957500-677b-456f-d7bf-659e6d8b431d"
      },
      "outputs": [
        {
          "output_type": "stream",
          "name": "stdout",
          "text": [
            "False\n",
            "False\n"
          ]
        }
      ],
      "source": [
        "A = np.random.randint(0,2,5)\n",
        "B = np.random.randint(0,2,5)\n",
        "# Assuming identical shape of the arrays and a tolerance for the comparison of values\n",
        "equal = np.allclose(A,B)\n",
        "print(equal)\n",
        "\n",
        "# Checking both the shape and the element values, no tolerance (values have to be exactly equal)\n",
        "equal = np.array_equal(A,B)\n",
        "print(equal)"
      ]
    },
    {
      "cell_type": "markdown",
      "metadata": {
        "id": "4Rwt2vabs8wc"
      },
      "source": [
        "#### 43. Make an array immutable (read-only) (★★☆) \n",
        "(**hint**: flags.writeable)"
      ]
    },
    {
      "cell_type": "code",
      "execution_count": null,
      "metadata": {
        "id": "IcCnjLass8wd",
        "colab": {
          "base_uri": "https://localhost:8080/",
          "height": 200
        },
        "outputId": "220338ac-3e8b-4dbb-829c-ad3a657a1832"
      },
      "outputs": [
        {
          "output_type": "error",
          "ename": "ValueError",
          "evalue": "ignored",
          "traceback": [
            "\u001b[0;31m---------------------------------------------------------------------------\u001b[0m",
            "\u001b[0;31mValueError\u001b[0m                                Traceback (most recent call last)",
            "\u001b[0;32m<ipython-input-17-dcc5e7f145b5>\u001b[0m in \u001b[0;36m<module>\u001b[0;34m()\u001b[0m\n\u001b[1;32m      1\u001b[0m \u001b[0mZ\u001b[0m \u001b[0;34m=\u001b[0m \u001b[0mnp\u001b[0m\u001b[0;34m.\u001b[0m\u001b[0mzeros\u001b[0m\u001b[0;34m(\u001b[0m\u001b[0;36m10\u001b[0m\u001b[0;34m)\u001b[0m\u001b[0;34m\u001b[0m\u001b[0;34m\u001b[0m\u001b[0m\n\u001b[1;32m      2\u001b[0m \u001b[0mZ\u001b[0m\u001b[0;34m.\u001b[0m\u001b[0mflags\u001b[0m\u001b[0;34m.\u001b[0m\u001b[0mwriteable\u001b[0m \u001b[0;34m=\u001b[0m \u001b[0;32mFalse\u001b[0m\u001b[0;34m\u001b[0m\u001b[0;34m\u001b[0m\u001b[0m\n\u001b[0;32m----> 3\u001b[0;31m \u001b[0mZ\u001b[0m\u001b[0;34m[\u001b[0m\u001b[0;36m0\u001b[0m\u001b[0;34m]\u001b[0m \u001b[0;34m=\u001b[0m \u001b[0;36m1\u001b[0m\u001b[0;34m\u001b[0m\u001b[0;34m\u001b[0m\u001b[0m\n\u001b[0m",
            "\u001b[0;31mValueError\u001b[0m: assignment destination is read-only"
          ]
        }
      ],
      "source": [
        "Z = np.zeros(10)\n",
        "Z.flags.writeable = False\n",
        "Z[0] = 1"
      ]
    },
    {
      "cell_type": "markdown",
      "metadata": {
        "id": "f9OnOq7as8wd"
      },
      "source": [
        "#### 44. Consider a random 10x2 matrix representing cartesian coordinates, convert them to polar coordinates (★★☆) \n",
        "(**hint**: np.sqrt, np.arctan2)"
      ]
    },
    {
      "cell_type": "code",
      "execution_count": null,
      "metadata": {
        "id": "x1xryMJHs8wd",
        "colab": {
          "base_uri": "https://localhost:8080/"
        },
        "outputId": "be647f77-af97-49fe-8571-00fd56272ea8"
      },
      "outputs": [
        {
          "output_type": "stream",
          "name": "stdout",
          "text": [
            "[0.79470768 0.34992192 0.88895151 1.03312364 0.92289147 0.1865433\n",
            " 0.36273114 0.85256128 0.87086709 0.93804889]\n",
            "[1.48053906 0.51803662 0.98022468 0.68944454 1.54230889 0.25288756\n",
            " 0.65882787 0.96602061 0.60977121 0.11316553]\n"
          ]
        }
      ],
      "source": [
        "Z = np.random.random((10,2))\n",
        "X,Y = Z[:,0], Z[:,1]\n",
        "R = np.sqrt(X**2+Y**2)\n",
        "T = np.arctan2(Y,X)\n",
        "print(R)\n",
        "print(T)"
      ]
    },
    {
      "cell_type": "markdown",
      "metadata": {
        "id": "G0S8KCsSs8we"
      },
      "source": [
        "#### 45. Create random vector of size 10 and replace the maximum value by 0 (★★☆) \n",
        "(**hint**: argmax)"
      ]
    },
    {
      "cell_type": "code",
      "execution_count": null,
      "metadata": {
        "id": "u4scSK2gs8we",
        "colab": {
          "base_uri": "https://localhost:8080/"
        },
        "outputId": "d9d5e924-d654-435a-97e2-bc8380e06665"
      },
      "outputs": [
        {
          "output_type": "stream",
          "name": "stdout",
          "text": [
            "[0.54431426 0.52193414 0.42011919 0.22855713 0.61363139 0.70436174\n",
            " 0.         0.6767298  0.3834705  0.41633711]\n"
          ]
        }
      ],
      "source": [
        "Z = np.random.random(10)\n",
        "Z[Z.argmax()] = 0\n",
        "print(Z)"
      ]
    },
    {
      "cell_type": "markdown",
      "metadata": {
        "id": "SdZXPVO2s8we"
      },
      "source": [
        "#### 46. Create a structured array with `x` and `y` coordinates covering the \\[0,1\\]x\\[0,1\\] area (★★☆) \n",
        "(**hint**: np.meshgrid)"
      ]
    },
    {
      "cell_type": "code",
      "execution_count": null,
      "metadata": {
        "id": "UdQxKttes8wf",
        "colab": {
          "base_uri": "https://localhost:8080/"
        },
        "outputId": "08e99e66-e93b-43da-e41b-14b6c030665d"
      },
      "outputs": [
        {
          "output_type": "stream",
          "name": "stdout",
          "text": [
            "[[(0.  , 0.  ) (0.25, 0.  ) (0.5 , 0.  ) (0.75, 0.  ) (1.  , 0.  )]\n",
            " [(0.  , 0.25) (0.25, 0.25) (0.5 , 0.25) (0.75, 0.25) (1.  , 0.25)]\n",
            " [(0.  , 0.5 ) (0.25, 0.5 ) (0.5 , 0.5 ) (0.75, 0.5 ) (1.  , 0.5 )]\n",
            " [(0.  , 0.75) (0.25, 0.75) (0.5 , 0.75) (0.75, 0.75) (1.  , 0.75)]\n",
            " [(0.  , 1.  ) (0.25, 1.  ) (0.5 , 1.  ) (0.75, 1.  ) (1.  , 1.  )]]\n"
          ]
        }
      ],
      "source": [
        "Z = np.zeros((5,5), [('x',float),('y',float)])\n",
        "Z['x'], Z['y'] = np.meshgrid(np.linspace(0,1,5),\n",
        "                             np.linspace(0,1,5))\n",
        "print(Z)"
      ]
    },
    {
      "cell_type": "markdown",
      "metadata": {
        "id": "_q5FdQKHs8wf"
      },
      "source": [
        "####  47. Given two arrays, X and Y, construct the Cauchy matrix C (Cij =1/(xi - yj)) \n",
        "(**hint**: np.subtract.outer)"
      ]
    },
    {
      "cell_type": "code",
      "execution_count": null,
      "metadata": {
        "id": "EkQvCC3Ws8wf",
        "colab": {
          "base_uri": "https://localhost:8080/"
        },
        "outputId": "e0b58f8d-2654-47a8-e72e-32114705dd2b"
      },
      "outputs": [
        {
          "output_type": "stream",
          "name": "stdout",
          "text": [
            "3638.163637117973\n"
          ]
        }
      ],
      "source": [
        "X = np.arange(8)\n",
        "Y = X + 0.5\n",
        "C = 1.0 / np.subtract.outer(X, Y)\n",
        "print(np.linalg.det(C))"
      ]
    },
    {
      "cell_type": "markdown",
      "metadata": {
        "id": "JgufcBlxs8wg"
      },
      "source": [
        "#### 48. Print the minimum and maximum representable value for each numpy scalar type (★★☆) \n",
        "(**hint**: np.iinfo, np.finfo, eps)"
      ]
    },
    {
      "cell_type": "code",
      "execution_count": null,
      "metadata": {
        "id": "VEzlcGU7s8wg",
        "colab": {
          "base_uri": "https://localhost:8080/"
        },
        "outputId": "3c571675-5d94-45a0-a0cf-5af0f5b72ace"
      },
      "outputs": [
        {
          "output_type": "stream",
          "name": "stdout",
          "text": [
            "-128\n",
            "127\n",
            "-2147483648\n",
            "2147483647\n",
            "-9223372036854775808\n",
            "9223372036854775807\n",
            "-3.4028235e+38\n",
            "3.4028235e+38\n",
            "1.1920929e-07\n",
            "-1.7976931348623157e+308\n",
            "1.7976931348623157e+308\n",
            "2.220446049250313e-16\n"
          ]
        }
      ],
      "source": [
        "for dtype in [np.int8, np.int32, np.int64]:\n",
        "   print(np.iinfo(dtype).min)\n",
        "   print(np.iinfo(dtype).max)\n",
        "for dtype in [np.float32, np.float64]:\n",
        "   print(np.finfo(dtype).min)\n",
        "   print(np.finfo(dtype).max)\n",
        "   print(np.finfo(dtype).eps)"
      ]
    },
    {
      "cell_type": "markdown",
      "metadata": {
        "id": "9TnAVkd0s8wg"
      },
      "source": [
        "#### 49. How to print all the values of an array? (★★☆) \n",
        "(**hint**: np.set\\_printoptions)"
      ]
    },
    {
      "cell_type": "code",
      "execution_count": null,
      "metadata": {
        "id": "c5Ec8444s8wh",
        "colab": {
          "base_uri": "https://localhost:8080/"
        },
        "outputId": "472a75ba-cd05-4e34-e969-c6acc35d1eab"
      },
      "outputs": [
        {
          "output_type": "stream",
          "name": "stdout",
          "text": [
            "[[0. 0. 0. 0. 0. 0. 0. 0. 0. 0. 0. 0. 0. 0. 0. 0. 0. 0. 0. 0. 0. 0. 0. 0.\n",
            "  0. 0. 0. 0. 0. 0. 0. 0. 0. 0. 0. 0. 0. 0. 0. 0.]\n",
            " [0. 0. 0. 0. 0. 0. 0. 0. 0. 0. 0. 0. 0. 0. 0. 0. 0. 0. 0. 0. 0. 0. 0. 0.\n",
            "  0. 0. 0. 0. 0. 0. 0. 0. 0. 0. 0. 0. 0. 0. 0. 0.]\n",
            " [0. 0. 0. 0. 0. 0. 0. 0. 0. 0. 0. 0. 0. 0. 0. 0. 0. 0. 0. 0. 0. 0. 0. 0.\n",
            "  0. 0. 0. 0. 0. 0. 0. 0. 0. 0. 0. 0. 0. 0. 0. 0.]\n",
            " [0. 0. 0. 0. 0. 0. 0. 0. 0. 0. 0. 0. 0. 0. 0. 0. 0. 0. 0. 0. 0. 0. 0. 0.\n",
            "  0. 0. 0. 0. 0. 0. 0. 0. 0. 0. 0. 0. 0. 0. 0. 0.]\n",
            " [0. 0. 0. 0. 0. 0. 0. 0. 0. 0. 0. 0. 0. 0. 0. 0. 0. 0. 0. 0. 0. 0. 0. 0.\n",
            "  0. 0. 0. 0. 0. 0. 0. 0. 0. 0. 0. 0. 0. 0. 0. 0.]\n",
            " [0. 0. 0. 0. 0. 0. 0. 0. 0. 0. 0. 0. 0. 0. 0. 0. 0. 0. 0. 0. 0. 0. 0. 0.\n",
            "  0. 0. 0. 0. 0. 0. 0. 0. 0. 0. 0. 0. 0. 0. 0. 0.]\n",
            " [0. 0. 0. 0. 0. 0. 0. 0. 0. 0. 0. 0. 0. 0. 0. 0. 0. 0. 0. 0. 0. 0. 0. 0.\n",
            "  0. 0. 0. 0. 0. 0. 0. 0. 0. 0. 0. 0. 0. 0. 0. 0.]\n",
            " [0. 0. 0. 0. 0. 0. 0. 0. 0. 0. 0. 0. 0. 0. 0. 0. 0. 0. 0. 0. 0. 0. 0. 0.\n",
            "  0. 0. 0. 0. 0. 0. 0. 0. 0. 0. 0. 0. 0. 0. 0. 0.]\n",
            " [0. 0. 0. 0. 0. 0. 0. 0. 0. 0. 0. 0. 0. 0. 0. 0. 0. 0. 0. 0. 0. 0. 0. 0.\n",
            "  0. 0. 0. 0. 0. 0. 0. 0. 0. 0. 0. 0. 0. 0. 0. 0.]\n",
            " [0. 0. 0. 0. 0. 0. 0. 0. 0. 0. 0. 0. 0. 0. 0. 0. 0. 0. 0. 0. 0. 0. 0. 0.\n",
            "  0. 0. 0. 0. 0. 0. 0. 0. 0. 0. 0. 0. 0. 0. 0. 0.]\n",
            " [0. 0. 0. 0. 0. 0. 0. 0. 0. 0. 0. 0. 0. 0. 0. 0. 0. 0. 0. 0. 0. 0. 0. 0.\n",
            "  0. 0. 0. 0. 0. 0. 0. 0. 0. 0. 0. 0. 0. 0. 0. 0.]\n",
            " [0. 0. 0. 0. 0. 0. 0. 0. 0. 0. 0. 0. 0. 0. 0. 0. 0. 0. 0. 0. 0. 0. 0. 0.\n",
            "  0. 0. 0. 0. 0. 0. 0. 0. 0. 0. 0. 0. 0. 0. 0. 0.]\n",
            " [0. 0. 0. 0. 0. 0. 0. 0. 0. 0. 0. 0. 0. 0. 0. 0. 0. 0. 0. 0. 0. 0. 0. 0.\n",
            "  0. 0. 0. 0. 0. 0. 0. 0. 0. 0. 0. 0. 0. 0. 0. 0.]\n",
            " [0. 0. 0. 0. 0. 0. 0. 0. 0. 0. 0. 0. 0. 0. 0. 0. 0. 0. 0. 0. 0. 0. 0. 0.\n",
            "  0. 0. 0. 0. 0. 0. 0. 0. 0. 0. 0. 0. 0. 0. 0. 0.]\n",
            " [0. 0. 0. 0. 0. 0. 0. 0. 0. 0. 0. 0. 0. 0. 0. 0. 0. 0. 0. 0. 0. 0. 0. 0.\n",
            "  0. 0. 0. 0. 0. 0. 0. 0. 0. 0. 0. 0. 0. 0. 0. 0.]\n",
            " [0. 0. 0. 0. 0. 0. 0. 0. 0. 0. 0. 0. 0. 0. 0. 0. 0. 0. 0. 0. 0. 0. 0. 0.\n",
            "  0. 0. 0. 0. 0. 0. 0. 0. 0. 0. 0. 0. 0. 0. 0. 0.]\n",
            " [0. 0. 0. 0. 0. 0. 0. 0. 0. 0. 0. 0. 0. 0. 0. 0. 0. 0. 0. 0. 0. 0. 0. 0.\n",
            "  0. 0. 0. 0. 0. 0. 0. 0. 0. 0. 0. 0. 0. 0. 0. 0.]\n",
            " [0. 0. 0. 0. 0. 0. 0. 0. 0. 0. 0. 0. 0. 0. 0. 0. 0. 0. 0. 0. 0. 0. 0. 0.\n",
            "  0. 0. 0. 0. 0. 0. 0. 0. 0. 0. 0. 0. 0. 0. 0. 0.]\n",
            " [0. 0. 0. 0. 0. 0. 0. 0. 0. 0. 0. 0. 0. 0. 0. 0. 0. 0. 0. 0. 0. 0. 0. 0.\n",
            "  0. 0. 0. 0. 0. 0. 0. 0. 0. 0. 0. 0. 0. 0. 0. 0.]\n",
            " [0. 0. 0. 0. 0. 0. 0. 0. 0. 0. 0. 0. 0. 0. 0. 0. 0. 0. 0. 0. 0. 0. 0. 0.\n",
            "  0. 0. 0. 0. 0. 0. 0. 0. 0. 0. 0. 0. 0. 0. 0. 0.]\n",
            " [0. 0. 0. 0. 0. 0. 0. 0. 0. 0. 0. 0. 0. 0. 0. 0. 0. 0. 0. 0. 0. 0. 0. 0.\n",
            "  0. 0. 0. 0. 0. 0. 0. 0. 0. 0. 0. 0. 0. 0. 0. 0.]\n",
            " [0. 0. 0. 0. 0. 0. 0. 0. 0. 0. 0. 0. 0. 0. 0. 0. 0. 0. 0. 0. 0. 0. 0. 0.\n",
            "  0. 0. 0. 0. 0. 0. 0. 0. 0. 0. 0. 0. 0. 0. 0. 0.]\n",
            " [0. 0. 0. 0. 0. 0. 0. 0. 0. 0. 0. 0. 0. 0. 0. 0. 0. 0. 0. 0. 0. 0. 0. 0.\n",
            "  0. 0. 0. 0. 0. 0. 0. 0. 0. 0. 0. 0. 0. 0. 0. 0.]\n",
            " [0. 0. 0. 0. 0. 0. 0. 0. 0. 0. 0. 0. 0. 0. 0. 0. 0. 0. 0. 0. 0. 0. 0. 0.\n",
            "  0. 0. 0. 0. 0. 0. 0. 0. 0. 0. 0. 0. 0. 0. 0. 0.]\n",
            " [0. 0. 0. 0. 0. 0. 0. 0. 0. 0. 0. 0. 0. 0. 0. 0. 0. 0. 0. 0. 0. 0. 0. 0.\n",
            "  0. 0. 0. 0. 0. 0. 0. 0. 0. 0. 0. 0. 0. 0. 0. 0.]\n",
            " [0. 0. 0. 0. 0. 0. 0. 0. 0. 0. 0. 0. 0. 0. 0. 0. 0. 0. 0. 0. 0. 0. 0. 0.\n",
            "  0. 0. 0. 0. 0. 0. 0. 0. 0. 0. 0. 0. 0. 0. 0. 0.]\n",
            " [0. 0. 0. 0. 0. 0. 0. 0. 0. 0. 0. 0. 0. 0. 0. 0. 0. 0. 0. 0. 0. 0. 0. 0.\n",
            "  0. 0. 0. 0. 0. 0. 0. 0. 0. 0. 0. 0. 0. 0. 0. 0.]\n",
            " [0. 0. 0. 0. 0. 0. 0. 0. 0. 0. 0. 0. 0. 0. 0. 0. 0. 0. 0. 0. 0. 0. 0. 0.\n",
            "  0. 0. 0. 0. 0. 0. 0. 0. 0. 0. 0. 0. 0. 0. 0. 0.]\n",
            " [0. 0. 0. 0. 0. 0. 0. 0. 0. 0. 0. 0. 0. 0. 0. 0. 0. 0. 0. 0. 0. 0. 0. 0.\n",
            "  0. 0. 0. 0. 0. 0. 0. 0. 0. 0. 0. 0. 0. 0. 0. 0.]\n",
            " [0. 0. 0. 0. 0. 0. 0. 0. 0. 0. 0. 0. 0. 0. 0. 0. 0. 0. 0. 0. 0. 0. 0. 0.\n",
            "  0. 0. 0. 0. 0. 0. 0. 0. 0. 0. 0. 0. 0. 0. 0. 0.]\n",
            " [0. 0. 0. 0. 0. 0. 0. 0. 0. 0. 0. 0. 0. 0. 0. 0. 0. 0. 0. 0. 0. 0. 0. 0.\n",
            "  0. 0. 0. 0. 0. 0. 0. 0. 0. 0. 0. 0. 0. 0. 0. 0.]\n",
            " [0. 0. 0. 0. 0. 0. 0. 0. 0. 0. 0. 0. 0. 0. 0. 0. 0. 0. 0. 0. 0. 0. 0. 0.\n",
            "  0. 0. 0. 0. 0. 0. 0. 0. 0. 0. 0. 0. 0. 0. 0. 0.]\n",
            " [0. 0. 0. 0. 0. 0. 0. 0. 0. 0. 0. 0. 0. 0. 0. 0. 0. 0. 0. 0. 0. 0. 0. 0.\n",
            "  0. 0. 0. 0. 0. 0. 0. 0. 0. 0. 0. 0. 0. 0. 0. 0.]\n",
            " [0. 0. 0. 0. 0. 0. 0. 0. 0. 0. 0. 0. 0. 0. 0. 0. 0. 0. 0. 0. 0. 0. 0. 0.\n",
            "  0. 0. 0. 0. 0. 0. 0. 0. 0. 0. 0. 0. 0. 0. 0. 0.]\n",
            " [0. 0. 0. 0. 0. 0. 0. 0. 0. 0. 0. 0. 0. 0. 0. 0. 0. 0. 0. 0. 0. 0. 0. 0.\n",
            "  0. 0. 0. 0. 0. 0. 0. 0. 0. 0. 0. 0. 0. 0. 0. 0.]\n",
            " [0. 0. 0. 0. 0. 0. 0. 0. 0. 0. 0. 0. 0. 0. 0. 0. 0. 0. 0. 0. 0. 0. 0. 0.\n",
            "  0. 0. 0. 0. 0. 0. 0. 0. 0. 0. 0. 0. 0. 0. 0. 0.]\n",
            " [0. 0. 0. 0. 0. 0. 0. 0. 0. 0. 0. 0. 0. 0. 0. 0. 0. 0. 0. 0. 0. 0. 0. 0.\n",
            "  0. 0. 0. 0. 0. 0. 0. 0. 0. 0. 0. 0. 0. 0. 0. 0.]\n",
            " [0. 0. 0. 0. 0. 0. 0. 0. 0. 0. 0. 0. 0. 0. 0. 0. 0. 0. 0. 0. 0. 0. 0. 0.\n",
            "  0. 0. 0. 0. 0. 0. 0. 0. 0. 0. 0. 0. 0. 0. 0. 0.]\n",
            " [0. 0. 0. 0. 0. 0. 0. 0. 0. 0. 0. 0. 0. 0. 0. 0. 0. 0. 0. 0. 0. 0. 0. 0.\n",
            "  0. 0. 0. 0. 0. 0. 0. 0. 0. 0. 0. 0. 0. 0. 0. 0.]\n",
            " [0. 0. 0. 0. 0. 0. 0. 0. 0. 0. 0. 0. 0. 0. 0. 0. 0. 0. 0. 0. 0. 0. 0. 0.\n",
            "  0. 0. 0. 0. 0. 0. 0. 0. 0. 0. 0. 0. 0. 0. 0. 0.]]\n"
          ]
        }
      ],
      "source": [
        "np.set_printoptions(threshold=float(\"inf\"))\n",
        "Z = np.zeros((40,40))\n",
        "print(Z)"
      ]
    },
    {
      "cell_type": "markdown",
      "metadata": {
        "id": "tKeQUu8Ks8wh"
      },
      "source": [
        "#### 50. How to find the closest value (to a given scalar) in a vector? (★★☆) \n",
        "(**hint**: argmin)"
      ]
    },
    {
      "cell_type": "code",
      "execution_count": null,
      "metadata": {
        "id": "KMpAlFovs8wh",
        "colab": {
          "base_uri": "https://localhost:8080/"
        },
        "outputId": "81ea8f34-34b2-48b6-99e7-733466303332"
      },
      "outputs": [
        {
          "output_type": "stream",
          "name": "stdout",
          "text": [
            "8\n"
          ]
        }
      ],
      "source": [
        "Z = np.arange(100)\n",
        "v = np.random.uniform(0,100)\n",
        "index = (np.abs(Z-v)).argmin()\n",
        "print(Z[index])"
      ]
    },
    {
      "cell_type": "markdown",
      "metadata": {
        "id": "OcgLUMI-s8wi"
      },
      "source": [
        "#### 51. Create a structured array representing a position (x,y) and a color (r,g,b) (★★☆) \n",
        "(**hint**: dtype)"
      ]
    },
    {
      "cell_type": "code",
      "execution_count": 8,
      "metadata": {
        "id": "myZsZ0h9s8wi",
        "colab": {
          "base_uri": "https://localhost:8080/"
        },
        "outputId": "b8996bd5-c1b0-4561-c932-f6bf4dae450d"
      },
      "outputs": [
        {
          "output_type": "stream",
          "name": "stdout",
          "text": [
            "[((0., 0.), (0., 0., 0.)) ((0., 0.), (0., 0., 0.))\n",
            " ((0., 0.), (0., 0., 0.)) ((0., 0.), (0., 0., 0.))\n",
            " ((0., 0.), (0., 0., 0.)) ((0., 0.), (0., 0., 0.))\n",
            " ((0., 0.), (0., 0., 0.)) ((0., 0.), (0., 0., 0.))\n",
            " ((0., 0.), (0., 0., 0.)) ((0., 0.), (0., 0., 0.))]\n"
          ]
        },
        {
          "output_type": "stream",
          "name": "stderr",
          "text": [
            "/usr/local/lib/python3.7/dist-packages/ipykernel_launcher.py:5: FutureWarning: Passing (type, 1) or '1type' as a synonym of type is deprecated; in a future version of numpy, it will be understood as (type, (1,)) / '(1,)type'.\n",
            "  \"\"\"\n"
          ]
        }
      ],
      "source": [
        "Z = np.zeros(10, [ ('position', [ ('x', float, 1),\n",
        "                                  ('y', float, 1)]),\n",
        "                   ('color',    [ ('r', float, 1),\n",
        "                                  ('g', float, 1),\n",
        "                                  ('b', float, 1)])])\n",
        "print(Z)"
      ]
    },
    {
      "cell_type": "markdown",
      "metadata": {
        "id": "kZOTNqa_s8wi"
      },
      "source": [
        "#### 52. Consider a random vector with shape (100,2) representing coordinates, find point by point distances (★★☆) \n",
        "(**hint**: np.atleast\\_2d, T, np.sqrt)"
      ]
    },
    {
      "cell_type": "code",
      "execution_count": 9,
      "metadata": {
        "id": "zj7KI0sLs8wj",
        "colab": {
          "base_uri": "https://localhost:8080/"
        },
        "outputId": "736cec15-9988-45d8-b187-ca08dc8ec03c"
      },
      "outputs": [
        {
          "output_type": "stream",
          "name": "stdout",
          "text": [
            "[[0.         1.07788765 0.81055628 0.37577526 0.5183244  0.84408856\n",
            "  0.61698889 0.64579007 0.89680522 0.51742792]\n",
            " [1.07788765 0.         0.39320064 0.86455852 0.5700366  0.26545542\n",
            "  0.47896536 0.82410368 0.47049011 0.86288398]\n",
            " [0.81055628 0.39320064 0.         0.51494771 0.31094    0.15067201\n",
            "  0.22059813 0.43145662 0.14418593 0.48203178]\n",
            " [0.37577526 0.86455852 0.51494771 0.         0.32308818 0.60139707\n",
            "  0.39264648 0.27127626 0.56303646 0.1476508 ]\n",
            " [0.5183244  0.5700366  0.31094    0.32308818 0.         0.32589115\n",
            "  0.09899589 0.42835131 0.42975216 0.38605865]\n",
            " [0.84408856 0.26545542 0.15067201 0.60139707 0.32589115 0.\n",
            "  0.22800094 0.56714943 0.27666992 0.59815408]\n",
            " [0.61698889 0.47896536 0.22059813 0.39264648 0.09899589 0.22800094\n",
            "  0.         0.43865834 0.35079477 0.42549892]\n",
            " [0.64579007 0.82410368 0.43145662 0.27127626 0.42835131 0.56714943\n",
            "  0.43865834 0.         0.40617774 0.13057949]\n",
            " [0.89680522 0.47049011 0.14418593 0.56303646 0.42975216 0.27666992\n",
            "  0.35079477 0.40617774 0.         0.49207429]\n",
            " [0.51742792 0.86288398 0.48203178 0.1476508  0.38605865 0.59815408\n",
            "  0.42549892 0.13057949 0.49207429 0.        ]]\n",
            "[[0.         0.54390239 0.42902972 0.21558875 0.34488253 0.77329075\n",
            "  0.46913058 0.46396981 0.23941711 0.58091166]\n",
            " [0.54390239 0.         0.28740682 0.69411186 0.69460223 0.25288807\n",
            "  0.20712869 0.09568385 0.70081253 0.19428538]\n",
            " [0.42902972 0.28740682 0.         0.63422155 0.70795292 0.53081389\n",
            "  0.40719339 0.20110814 0.65227637 0.18484054]\n",
            " [0.21558875 0.69411186 0.63422155 0.         0.17855112 0.89232471\n",
            "  0.56306187 0.62999473 0.02977067 0.76919929]\n",
            " [0.34488253 0.69460223 0.70795292 0.17855112 0.         0.85208368\n",
            "  0.52315107 0.65157954 0.15072321 0.81014449]\n",
            " [0.77329075 0.25288807 0.53081389 0.89232471 0.85208368 0.\n",
            "  0.33176625 0.34856982 0.89300834 0.3863754 ]\n",
            " [0.46913058 0.20712869 0.40719339 0.56306187 0.52315107 0.33176625\n",
            "  0.         0.22616328 0.56232759 0.3870881 ]\n",
            " [0.46396981 0.09568385 0.20110814 0.62999473 0.65157954 0.34856982\n",
            "  0.22616328 0.         0.63980643 0.16924698]\n",
            " [0.23941711 0.70081253 0.65227637 0.02977067 0.15072321 0.89300834\n",
            "  0.56232759 0.63980643 0.         0.7826611 ]\n",
            " [0.58091166 0.19428538 0.18484054 0.76919929 0.81014449 0.3863754\n",
            "  0.3870881  0.16924698 0.7826611  0.        ]]\n"
          ]
        }
      ],
      "source": [
        "Z = np.random.random((10,2))\n",
        "X,Y = np.atleast_2d(Z[:,0], Z[:,1])\n",
        "D = np.sqrt( (X-X.T)**2 + (Y-Y.T)**2)\n",
        "print(D)\n",
        "import scipy\n",
        "import scipy.spatial\n",
        "\n",
        "Z = np.random.random((10,2))\n",
        "D = scipy.spatial.distance.cdist(Z,Z)\n",
        "print(D)"
      ]
    },
    {
      "cell_type": "markdown",
      "metadata": {
        "id": "obq41Y7Ys8wj"
      },
      "source": [
        "#### 53. How to convert a float (32 bits) array into an integer (32 bits) in place? \n",
        "(**hint**: astype(copy=False))"
      ]
    },
    {
      "cell_type": "code",
      "execution_count": 10,
      "metadata": {
        "id": "Ju17sMR1s8wj",
        "colab": {
          "base_uri": "https://localhost:8080/"
        },
        "outputId": "88f37d5a-77f2-4fd9-a923-4e3f79d2eb83"
      },
      "outputs": [
        {
          "output_type": "stream",
          "name": "stdout",
          "text": [
            "[38 19 55 34 43 24 68 23 86  8]\n"
          ]
        }
      ],
      "source": [
        "Z = (np.random.rand(10)*100).astype(np.float32)\n",
        "Y = Z.view(np.int32)\n",
        "Y[:] = Z\n",
        "print(Y)"
      ]
    },
    {
      "cell_type": "markdown",
      "metadata": {
        "id": "K9v528FVs8wk"
      },
      "source": [
        "#### 54. How to read the following file? (★★☆) \n",
        "(**hint**: np.genfromtxt)"
      ]
    },
    {
      "cell_type": "markdown",
      "metadata": {
        "id": "kCuxJuXRs8wk"
      },
      "source": [
        "```\n",
        "1, 2, 3, 4, 5\n",
        "6,  ,  , 7, 8\n",
        " ,  , 9,10,11\n",
        "```"
      ]
    },
    {
      "cell_type": "code",
      "execution_count": 11,
      "metadata": {
        "id": "xiE5MZhEs8wl",
        "colab": {
          "base_uri": "https://localhost:8080/"
        },
        "outputId": "0348ef51-b1af-493a-dd7d-01945f44eaec"
      },
      "outputs": [
        {
          "output_type": "stream",
          "name": "stdout",
          "text": [
            "[[ 1  2  3  4  5]\n",
            " [ 6 -1 -1  7  8]\n",
            " [-1 -1  9 10 11]]\n"
          ]
        },
        {
          "output_type": "stream",
          "name": "stderr",
          "text": [
            "/usr/local/lib/python3.7/dist-packages/ipykernel_launcher.py:8: DeprecationWarning: `np.int` is a deprecated alias for the builtin `int`. To silence this warning, use `int` by itself. Doing this will not modify any behavior and is safe. When replacing `np.int`, you may wish to use e.g. `np.int64` or `np.int32` to specify the precision. If you wish to review your current use, check the release note link for additional information.\n",
            "Deprecated in NumPy 1.20; for more details and guidance: https://numpy.org/devdocs/release/1.20.0-notes.html#deprecations\n",
            "  \n"
          ]
        }
      ],
      "source": [
        "from io import StringIO\n",
        "\n",
        "# Fake file\n",
        "s = StringIO('''1, 2, 3, 4, 5\n",
        "                6,  ,  , 7, 8\n",
        "                 ,  , 9,10,11\n",
        "''')\n",
        "Z = np.genfromtxt(s, delimiter=\",\", dtype=np.int)\n",
        "print(Z)"
      ]
    },
    {
      "cell_type": "markdown",
      "metadata": {
        "id": "2GJBIj1Cs8wl"
      },
      "source": [
        "#### 55. What is the equivalent of enumerate for numpy arrays? (★★☆) \n",
        "(**hint**: np.ndenumerate, np.ndindex)"
      ]
    },
    {
      "cell_type": "code",
      "execution_count": 12,
      "metadata": {
        "id": "EIVnEjqMs8wm",
        "colab": {
          "base_uri": "https://localhost:8080/"
        },
        "outputId": "7a948f40-b082-41dd-cc86-b986ebfdd7df"
      },
      "outputs": [
        {
          "output_type": "stream",
          "name": "stdout",
          "text": [
            "(0, 0) 0\n",
            "(0, 1) 1\n",
            "(0, 2) 2\n",
            "(1, 0) 3\n",
            "(1, 1) 4\n",
            "(1, 2) 5\n",
            "(2, 0) 6\n",
            "(2, 1) 7\n",
            "(2, 2) 8\n",
            "(0, 0) 0\n",
            "(0, 1) 1\n",
            "(0, 2) 2\n",
            "(1, 0) 3\n",
            "(1, 1) 4\n",
            "(1, 2) 5\n",
            "(2, 0) 6\n",
            "(2, 1) 7\n",
            "(2, 2) 8\n"
          ]
        }
      ],
      "source": [
        "Z = np.arange(9).reshape(3,3)\n",
        "for index, value in np.ndenumerate(Z):\n",
        "    print(index, value)\n",
        "for index in np.ndindex(Z.shape):\n",
        "    print(index, Z[index])"
      ]
    },
    {
      "cell_type": "markdown",
      "metadata": {
        "id": "IMWSJuxls8wn"
      },
      "source": [
        "#### 56. Generate a generic 2D Gaussian-like array (★★☆) \n",
        "(**hint**: np.meshgrid, np.exp)"
      ]
    },
    {
      "cell_type": "code",
      "execution_count": 13,
      "metadata": {
        "id": "IxJW-cNws8wn",
        "colab": {
          "base_uri": "https://localhost:8080/"
        },
        "outputId": "4d3dcbb2-7446-4d5e-c7c0-24d37dd41cd1"
      },
      "outputs": [
        {
          "output_type": "stream",
          "name": "stdout",
          "text": [
            "[[0.36787944 0.44822088 0.51979489 0.57375342 0.60279818 0.60279818\n",
            "  0.57375342 0.51979489 0.44822088 0.36787944]\n",
            " [0.44822088 0.54610814 0.63331324 0.69905581 0.73444367 0.73444367\n",
            "  0.69905581 0.63331324 0.54610814 0.44822088]\n",
            " [0.51979489 0.63331324 0.73444367 0.81068432 0.85172308 0.85172308\n",
            "  0.81068432 0.73444367 0.63331324 0.51979489]\n",
            " [0.57375342 0.69905581 0.81068432 0.89483932 0.9401382  0.9401382\n",
            "  0.89483932 0.81068432 0.69905581 0.57375342]\n",
            " [0.60279818 0.73444367 0.85172308 0.9401382  0.98773022 0.98773022\n",
            "  0.9401382  0.85172308 0.73444367 0.60279818]\n",
            " [0.60279818 0.73444367 0.85172308 0.9401382  0.98773022 0.98773022\n",
            "  0.9401382  0.85172308 0.73444367 0.60279818]\n",
            " [0.57375342 0.69905581 0.81068432 0.89483932 0.9401382  0.9401382\n",
            "  0.89483932 0.81068432 0.69905581 0.57375342]\n",
            " [0.51979489 0.63331324 0.73444367 0.81068432 0.85172308 0.85172308\n",
            "  0.81068432 0.73444367 0.63331324 0.51979489]\n",
            " [0.44822088 0.54610814 0.63331324 0.69905581 0.73444367 0.73444367\n",
            "  0.69905581 0.63331324 0.54610814 0.44822088]\n",
            " [0.36787944 0.44822088 0.51979489 0.57375342 0.60279818 0.60279818\n",
            "  0.57375342 0.51979489 0.44822088 0.36787944]]\n"
          ]
        }
      ],
      "source": [
        "X, Y = np.meshgrid(np.linspace(-1,1,10), np.linspace(-1,1,10))\n",
        "D = np.sqrt(X*X+Y*Y)\n",
        "sigma, mu = 1.0, 0.0\n",
        "G = np.exp(-( (D-mu)**2 / ( 2.0 * sigma**2 ) ) )\n",
        "print(G)"
      ]
    },
    {
      "cell_type": "markdown",
      "metadata": {
        "id": "uS0D4dYns8wo"
      },
      "source": [
        "#### 57. How to randomly place p elements in a 2D array? (★★☆) \n",
        "(**hint**: np.put, np.random.choice)"
      ]
    },
    {
      "cell_type": "code",
      "execution_count": 14,
      "metadata": {
        "id": "Q_G9F3Y_s8wo",
        "colab": {
          "base_uri": "https://localhost:8080/"
        },
        "outputId": "d9ab8fbe-e462-43bd-d6ca-3d8fb8a4a395"
      },
      "outputs": [
        {
          "output_type": "stream",
          "name": "stdout",
          "text": [
            "[[0. 0. 0. 0. 0. 0. 0. 0. 0. 0.]\n",
            " [0. 0. 0. 0. 0. 0. 0. 0. 0. 0.]\n",
            " [0. 0. 0. 0. 0. 0. 0. 0. 0. 0.]\n",
            " [0. 0. 0. 0. 0. 0. 0. 0. 0. 0.]\n",
            " [0. 0. 0. 0. 0. 0. 0. 0. 0. 0.]\n",
            " [0. 0. 0. 0. 0. 0. 0. 0. 0. 0.]\n",
            " [0. 0. 0. 0. 0. 0. 0. 0. 0. 0.]\n",
            " [0. 1. 0. 0. 0. 0. 0. 1. 0. 0.]\n",
            " [0. 0. 0. 0. 0. 0. 0. 0. 0. 0.]\n",
            " [0. 0. 0. 0. 1. 0. 0. 0. 0. 0.]]\n"
          ]
        }
      ],
      "source": [
        "n = 10\n",
        "p = 3\n",
        "Z = np.zeros((n,n))\n",
        "np.put(Z, np.random.choice(range(n*n), p, replace=False),1)\n",
        "print(Z)"
      ]
    },
    {
      "cell_type": "markdown",
      "metadata": {
        "id": "xZ_Oz4Tcs8wp"
      },
      "source": [
        "#### 58. Subtract the mean of each row of a matrix (★★☆) \n",
        "(**hint**: mean(axis=,keepdims=))"
      ]
    },
    {
      "cell_type": "code",
      "execution_count": 15,
      "metadata": {
        "id": "LDarpwz-s8wp",
        "colab": {
          "base_uri": "https://localhost:8080/"
        },
        "outputId": "1145ec16-e5eb-4781-f7cb-219f5d86ff25"
      },
      "outputs": [
        {
          "output_type": "stream",
          "name": "stdout",
          "text": [
            "[[ 0.20410513  0.01135976 -0.0857496  -0.31170209  0.56961646 -0.14572966\n",
            "   0.38727044 -0.09101339 -0.25802694 -0.2801301 ]\n",
            " [-0.2021585   0.23888779 -0.21686633 -0.15866431 -0.04204489  0.1090525\n",
            "   0.24655556 -0.43920033  0.42622259  0.03821592]\n",
            " [ 0.24887053 -0.20894844  0.22299514 -0.38117079 -0.29897651 -0.12429762\n",
            "  -0.16858781  0.41845471  0.07816104  0.21349975]\n",
            " [-0.10218471  0.01449541  0.43809333  0.33481037  0.02281515 -0.4391729\n",
            "  -0.05395665 -0.47123455 -0.21774858  0.47408314]\n",
            " [ 0.115283    0.0327418  -0.29245677  0.1120234  -0.34667986  0.06465445\n",
            "   0.5253229  -0.36176244  0.52699129 -0.37611776]]\n"
          ]
        }
      ],
      "source": [
        "X = np.random.rand(5, 10)\n",
        "\n",
        "# Recent versions of numpy\n",
        "Y = X - X.mean(axis=1, keepdims=True)\n",
        "\n",
        "# Older versions of numpy\n",
        "Y = X - X.mean(axis=1).reshape(-1, 1)\n",
        "\n",
        "print(Y)"
      ]
    },
    {
      "cell_type": "markdown",
      "metadata": {
        "id": "Tqmc_3ozs8wq"
      },
      "source": [
        "#### 59. How to sort an array by the nth column? (★★☆) \n",
        "(**hint**: argsort)"
      ]
    },
    {
      "cell_type": "code",
      "execution_count": 16,
      "metadata": {
        "id": "OWXoZ0Kfs8wq",
        "colab": {
          "base_uri": "https://localhost:8080/"
        },
        "outputId": "bd55df03-3ecf-405a-ebe6-b931f12f90a6"
      },
      "outputs": [
        {
          "output_type": "stream",
          "name": "stdout",
          "text": [
            "[[3 5 0]\n",
            " [6 3 1]\n",
            " [7 2 7]]\n",
            "[[7 2 7]\n",
            " [6 3 1]\n",
            " [3 5 0]]\n"
          ]
        }
      ],
      "source": [
        "Z = np.random.randint(0,10,(3,3))\n",
        "print(Z)\n",
        "print(Z[Z[:,1].argsort()])"
      ]
    },
    {
      "cell_type": "markdown",
      "metadata": {
        "id": "XzWiKqhNs8wr"
      },
      "source": [
        "#### 60. How to tell if a given 2D array has null columns? (★★☆) \n",
        "(**hint**: any, ~)"
      ]
    },
    {
      "cell_type": "code",
      "execution_count": 17,
      "metadata": {
        "id": "hmVNuYG4s8wr",
        "colab": {
          "base_uri": "https://localhost:8080/"
        },
        "outputId": "83995043-650b-43b4-e7ac-550de1626006"
      },
      "outputs": [
        {
          "output_type": "stream",
          "name": "stdout",
          "text": [
            "True\n"
          ]
        }
      ],
      "source": [
        "Z = np.random.randint(0,3,(3,10))\n",
        "print((~Z.any(axis=0)).any())"
      ]
    },
    {
      "cell_type": "markdown",
      "metadata": {
        "id": "qBZrEqM8s8ws"
      },
      "source": [
        "#### 61. Find the nearest value from a given value in an array (★★☆) \n",
        "(**hint**: np.abs, argmin, flat)"
      ]
    },
    {
      "cell_type": "code",
      "execution_count": 18,
      "metadata": {
        "id": "OUgAZwnOs8ws",
        "colab": {
          "base_uri": "https://localhost:8080/"
        },
        "outputId": "e64eb036-d510-48f0-a869-cc5d32e235cb"
      },
      "outputs": [
        {
          "output_type": "stream",
          "name": "stdout",
          "text": [
            "0.42986974301328773\n"
          ]
        }
      ],
      "source": [
        "Z = np.random.uniform(0,1,10)\n",
        "z = 0.5\n",
        "m = Z.flat[np.abs(Z - z).argmin()]\n",
        "print(m)"
      ]
    },
    {
      "cell_type": "markdown",
      "metadata": {
        "id": "2C6fJ4-Ls8wt"
      },
      "source": [
        "#### 62. Considering two arrays with shape (1,3) and (3,1), how to compute their sum using an iterator? (★★☆) \n",
        "(**hint**: np.nditer)"
      ]
    },
    {
      "cell_type": "code",
      "execution_count": 19,
      "metadata": {
        "id": "um4-CEvvs8wt",
        "colab": {
          "base_uri": "https://localhost:8080/"
        },
        "outputId": "e4835ec4-239d-4e53-b91d-75da00017871"
      },
      "outputs": [
        {
          "output_type": "stream",
          "name": "stdout",
          "text": [
            "[[0 1 2]\n",
            " [1 2 3]\n",
            " [2 3 4]]\n"
          ]
        }
      ],
      "source": [
        "A = np.arange(3).reshape(3,1)\n",
        "B = np.arange(3).reshape(1,3)\n",
        "it = np.nditer([A,B,None])\n",
        "for x,y,z in it: z[...] = x + y\n",
        "print(it.operands[2])"
      ]
    },
    {
      "cell_type": "markdown",
      "metadata": {
        "id": "DOesdYYhs8wt"
      },
      "source": [
        "#### 63. Create an array class that has a name attribute (★★☆) \n",
        "(**hint**: class method)"
      ]
    },
    {
      "cell_type": "code",
      "execution_count": 20,
      "metadata": {
        "id": "l0Iwr3Uls8wu",
        "colab": {
          "base_uri": "https://localhost:8080/"
        },
        "outputId": "f570b5cf-7094-4dec-ee71-149661c76803"
      },
      "outputs": [
        {
          "output_type": "stream",
          "name": "stdout",
          "text": [
            "range_10\n"
          ]
        }
      ],
      "source": [
        "class NamedArray(np.ndarray):\n",
        "    def __new__(cls, array, name=\"no name\"):\n",
        "        obj = np.asarray(array).view(cls)\n",
        "        obj.name = name\n",
        "        return obj\n",
        "    def __array_finalize__(self, obj):\n",
        "        if obj is None: return\n",
        "        self.info = getattr(obj, 'name', \"no name\")\n",
        "\n",
        "Z = NamedArray(np.arange(10), \"range_10\")\n",
        "print (Z.name)"
      ]
    },
    {
      "cell_type": "markdown",
      "metadata": {
        "id": "qX0hQ7REs8wu"
      },
      "source": [
        "#### 64. Consider a given vector, how to add 1 to each element indexed by a second vector (be careful with repeated indices)? (★★★) \n",
        "(**hint**: np.bincount | np.add.at)"
      ]
    },
    {
      "cell_type": "code",
      "execution_count": 21,
      "metadata": {
        "id": "Zwimc0xms8wu",
        "colab": {
          "base_uri": "https://localhost:8080/"
        },
        "outputId": "a01b93ce-1775-4222-bbc2-4957f2cd31ef"
      },
      "outputs": [
        {
          "output_type": "stream",
          "name": "stdout",
          "text": [
            "[3. 4. 4. 2. 3. 3. 3. 3. 2. 3.]\n",
            "[5. 7. 7. 3. 5. 5. 5. 5. 3. 5.]\n"
          ]
        }
      ],
      "source": [
        "Z = np.ones(10)\n",
        "I = np.random.randint(0,len(Z),20)\n",
        "Z += np.bincount(I, minlength=len(Z))\n",
        "print(Z)\n",
        "np.add.at(Z, I, 1)\n",
        "print(Z)"
      ]
    },
    {
      "cell_type": "markdown",
      "metadata": {
        "id": "OM_MoCXos8wv"
      },
      "source": [
        "#### 65. How to accumulate elements of a vector (X) to an array (F) based on an index list (I)? (★★★) \n",
        "(**hint**: np.bincount)"
      ]
    },
    {
      "cell_type": "code",
      "execution_count": 22,
      "metadata": {
        "id": "uEdNxVmXs8wv",
        "colab": {
          "base_uri": "https://localhost:8080/"
        },
        "outputId": "e088a41d-5381-409c-8e4d-5d300943fb70"
      },
      "outputs": [
        {
          "output_type": "stream",
          "name": "stdout",
          "text": [
            "[0. 7. 0. 6. 5. 0. 0. 0. 0. 3.]\n"
          ]
        }
      ],
      "source": [
        "X = [1,2,3,4,5,6]\n",
        "I = [1,3,9,3,4,1]\n",
        "F = np.bincount(I,X)\n",
        "print(F)"
      ]
    },
    {
      "cell_type": "markdown",
      "metadata": {
        "id": "Wdm7pQOss8wv"
      },
      "source": [
        "#### 66. Considering a (w,h,3) image of (dtype=ubyte), compute the number of unique colors (★★★) \n",
        "(**hint**: np.unique)"
      ]
    },
    {
      "cell_type": "code",
      "execution_count": 23,
      "metadata": {
        "id": "uFV9DiCDs8ww",
        "colab": {
          "base_uri": "https://localhost:8080/"
        },
        "outputId": "8b4c9ef8-ef5b-4bac-cbaa-7c04e49592da"
      },
      "outputs": [
        {
          "output_type": "stream",
          "name": "stdout",
          "text": [
            "64\n",
            "64\n"
          ]
        }
      ],
      "source": [
        "w, h = 256, 256\n",
        "I = np.random.randint(0, 4, (h, w, 3)).astype(np.ubyte)\n",
        "colors = np.unique(I.reshape(-1, 3), axis=0)\n",
        "n = len(colors)\n",
        "print(n)\n",
        "w, h = 256, 256\n",
        "I = np.random.randint(0,4,(h,w,3), dtype=np.uint8)\n",
        "\n",
        "I24 = np.dot(I.astype(np.uint32),[1,256,65536])\n",
        "\n",
        "n = len(np.unique(I24))\n",
        "print(n)"
      ]
    },
    {
      "cell_type": "markdown",
      "metadata": {
        "id": "N_pFS86Es8ww"
      },
      "source": [
        "#### 67. Considering a four dimensions array, how to get sum over the last two axis at once? (★★★) \n",
        "(**hint**: sum(axis=(-2,-1)))"
      ]
    },
    {
      "cell_type": "code",
      "execution_count": null,
      "metadata": {
        "id": "vswrmbzgs8ww"
      },
      "outputs": [],
      "source": [
        "A = np.random.randint(0,10,(3,4,3,4))\n",
        "\n",
        "sum = A.sum(axis=(-2,-1))\n",
        "print(sum)\n",
        "\n",
        "sum = A.reshape(A.shape[:-2] + (-1,)).sum(axis=-1)\n",
        "print(sum)"
      ]
    },
    {
      "cell_type": "markdown",
      "metadata": {
        "id": "-fQMXSP4s8w7"
      },
      "source": [
        "#### 68. Considering a one-dimensional vector D, how to compute means of subsets of D using a vector S of same size describing subset  indices? (★★★) \n",
        "(**hint**: np.bincount)"
      ]
    },
    {
      "cell_type": "code",
      "execution_count": 24,
      "metadata": {
        "id": "FhUgw-hrs8w8",
        "colab": {
          "base_uri": "https://localhost:8080/"
        },
        "outputId": "a2224216-4441-4a08-d95f-8368ad2b299e"
      },
      "outputs": [
        {
          "output_type": "stream",
          "name": "stdout",
          "text": [
            "[0.34154705 0.59860826 0.48844138 0.47359517 0.34446462 0.48244811\n",
            " 0.47036726 0.39954785 0.52317789 0.44103419]\n",
            "0    0.341547\n",
            "1    0.598608\n",
            "2    0.488441\n",
            "3    0.473595\n",
            "4    0.344465\n",
            "5    0.482448\n",
            "6    0.470367\n",
            "7    0.399548\n",
            "8    0.523178\n",
            "9    0.441034\n",
            "dtype: float64\n"
          ]
        }
      ],
      "source": [
        "D = np.random.uniform(0,1,100)\n",
        "S = np.random.randint(0,10,100)\n",
        "D_sums = np.bincount(S, weights=D)\n",
        "D_counts = np.bincount(S)\n",
        "D_means = D_sums / D_counts\n",
        "print(D_means)\n",
        "\n",
        "# Pandas solution as a reference due to more intuitive code\n",
        "import pandas as pd\n",
        "print(pd.Series(D).groupby(S).mean())"
      ]
    },
    {
      "cell_type": "markdown",
      "metadata": {
        "id": "DpYfAV8ms8w8"
      },
      "source": [
        "#### 69. How to get the diagonal of a dot product? (★★★) \n",
        "(**hint**: np.diag)"
      ]
    },
    {
      "cell_type": "code",
      "execution_count": null,
      "metadata": {
        "id": "qxBoOWHRs8w9"
      },
      "outputs": [],
      "source": [
        "A = np.random.uniform(0,1,(5,5))\n",
        "B = np.random.uniform(0,1,(5,5))\n",
        "\n",
        "# Slow version\n",
        "np.diag(np.dot(A, B))\n",
        "\n",
        "# Fast version\n",
        "np.sum(A * B.T, axis=1)\n",
        "\n",
        "# Faster version\n",
        "np.einsum(\"ij,ji->i\", A, B)"
      ]
    },
    {
      "cell_type": "markdown",
      "metadata": {
        "id": "0NdLdfDDs8w9"
      },
      "source": [
        "#### 70. Consider the vector \\[1, 2, 3, 4, 5\\], how to build a new vector with 3 consecutive zeros interleaved between each value? (★★★) \n",
        "(**hint**: array\\[::4\\])"
      ]
    },
    {
      "cell_type": "code",
      "execution_count": 25,
      "metadata": {
        "id": "BzyymHpIs8w9",
        "colab": {
          "base_uri": "https://localhost:8080/"
        },
        "outputId": "2d755d2c-95bf-4ca8-b639-7eec527f93c8"
      },
      "outputs": [
        {
          "output_type": "stream",
          "name": "stdout",
          "text": [
            "[1. 0. 0. 0. 2. 0. 0. 0. 3. 0. 0. 0. 4. 0. 0. 0. 5.]\n"
          ]
        }
      ],
      "source": [
        "Z = np.array([1,2,3,4,5])\n",
        "nz = 3\n",
        "Z0 = np.zeros(len(Z) + (len(Z)-1)*(nz))\n",
        "Z0[::nz+1] = Z\n",
        "print(Z0)"
      ]
    },
    {
      "cell_type": "markdown",
      "metadata": {
        "id": "NMlsWDn2s8w-"
      },
      "source": [
        "#### 71. Consider an array of dimension (5,5,3), how to mulitply it by an array with dimensions (5,5)? (★★★) \n",
        "(**hint**: array\\[:, :, None\\])"
      ]
    },
    {
      "cell_type": "code",
      "execution_count": 26,
      "metadata": {
        "collapsed": true,
        "id": "-tFobojis8w-",
        "colab": {
          "base_uri": "https://localhost:8080/"
        },
        "outputId": "9e9b7636-b2bb-4c6b-c3df-d65c3d59bf32"
      },
      "outputs": [
        {
          "output_type": "stream",
          "name": "stdout",
          "text": [
            "[[[2. 2. 2.]\n",
            "  [2. 2. 2.]\n",
            "  [2. 2. 2.]\n",
            "  [2. 2. 2.]\n",
            "  [2. 2. 2.]]\n",
            "\n",
            " [[2. 2. 2.]\n",
            "  [2. 2. 2.]\n",
            "  [2. 2. 2.]\n",
            "  [2. 2. 2.]\n",
            "  [2. 2. 2.]]\n",
            "\n",
            " [[2. 2. 2.]\n",
            "  [2. 2. 2.]\n",
            "  [2. 2. 2.]\n",
            "  [2. 2. 2.]\n",
            "  [2. 2. 2.]]\n",
            "\n",
            " [[2. 2. 2.]\n",
            "  [2. 2. 2.]\n",
            "  [2. 2. 2.]\n",
            "  [2. 2. 2.]\n",
            "  [2. 2. 2.]]\n",
            "\n",
            " [[2. 2. 2.]\n",
            "  [2. 2. 2.]\n",
            "  [2. 2. 2.]\n",
            "  [2. 2. 2.]\n",
            "  [2. 2. 2.]]]\n"
          ]
        }
      ],
      "source": [
        "A = np.ones((5,5,3))\n",
        "B = 2*np.ones((5,5))\n",
        "print(A * B[:,:,None])"
      ]
    },
    {
      "cell_type": "markdown",
      "metadata": {
        "id": "-VstmKJCs8w_"
      },
      "source": [
        "#### 72. How to swap two rows of an array? (★★★) \n",
        "(**hint**: array\\[\\[\\]\\] = array\\[\\[\\]\\])"
      ]
    },
    {
      "cell_type": "code",
      "execution_count": 27,
      "metadata": {
        "id": "4MuTC2JRs8w_",
        "colab": {
          "base_uri": "https://localhost:8080/"
        },
        "outputId": "2febada7-cf8c-4a7f-fc91-06385875de39"
      },
      "outputs": [
        {
          "output_type": "stream",
          "name": "stdout",
          "text": [
            "[[ 5  6  7  8  9]\n",
            " [ 0  1  2  3  4]\n",
            " [10 11 12 13 14]\n",
            " [15 16 17 18 19]\n",
            " [20 21 22 23 24]]\n"
          ]
        }
      ],
      "source": [
        "A = np.arange(25).reshape(5,5)\n",
        "A[[0,1]] = A[[1,0]]\n",
        "print(A)"
      ]
    },
    {
      "cell_type": "markdown",
      "metadata": {
        "id": "-Vn_gw5as8w_"
      },
      "source": [
        "#### 73. Consider a set of 10 triplets describing 10 triangles (with shared vertices), find the set of unique line segments composing all the  triangles (★★★) \n",
        "(**hint**: repeat, np.roll, np.sort, view, np.unique)"
      ]
    },
    {
      "cell_type": "code",
      "execution_count": 28,
      "metadata": {
        "id": "8SWXoTMds8xA",
        "colab": {
          "base_uri": "https://localhost:8080/"
        },
        "outputId": "24aa037b-ab83-4b37-f6bc-7af1eccab437"
      },
      "outputs": [
        {
          "output_type": "stream",
          "name": "stdout",
          "text": [
            "[( 2, 27) ( 2, 76) ( 4, 34) ( 4, 58) ( 7, 70) ( 7, 90) (12, 28) (12, 90)\n",
            " (16, 51) (16, 84) (23, 32) (23, 77) (24, 77) (24, 82) (27, 76) (28, 53)\n",
            " (28, 74) (28, 90) (32, 70) (32, 77) (32, 89) (33, 37) (33, 93) (34, 58)\n",
            " (37, 93) (51, 84) (53, 74) (70, 89) (70, 90) (77, 82)]\n"
          ]
        }
      ],
      "source": [
        "faces = np.random.randint(0,100,(10,3))\n",
        "F = np.roll(faces.repeat(2,axis=1),-1,axis=1)\n",
        "F = F.reshape(len(F)*3,2)\n",
        "F = np.sort(F,axis=1)\n",
        "G = F.view( dtype=[('p0',F.dtype),('p1',F.dtype)] )\n",
        "G = np.unique(G)\n",
        "print(G)"
      ]
    },
    {
      "cell_type": "markdown",
      "metadata": {
        "id": "yxvgqEcgs8xA"
      },
      "source": [
        "#### 74. Given an array C that is a bincount, how to produce an array A such that np.bincount(A) == C? (★★★) \n",
        "(**hint**: np.repeat)"
      ]
    },
    {
      "cell_type": "code",
      "execution_count": 29,
      "metadata": {
        "id": "GDp_7dyfs8xA",
        "colab": {
          "base_uri": "https://localhost:8080/"
        },
        "outputId": "1578df2e-2154-44f5-d679-c4dd3c1ce5c9"
      },
      "outputs": [
        {
          "output_type": "stream",
          "name": "stdout",
          "text": [
            "[1 1 2 3 4 4 6]\n"
          ]
        }
      ],
      "source": [
        "C = np.bincount([1,1,2,3,4,4,6])\n",
        "A = np.repeat(np.arange(len(C)), C)\n",
        "print(A)"
      ]
    },
    {
      "cell_type": "markdown",
      "metadata": {
        "id": "0Z1mKiTws8xB"
      },
      "source": [
        "#### 75. How to compute averages using a sliding window over an array? (★★★) \n",
        "(**hint**: np.cumsum)"
      ]
    },
    {
      "cell_type": "code",
      "execution_count": 30,
      "metadata": {
        "id": "bQ_LqZo8s8xB",
        "colab": {
          "base_uri": "https://localhost:8080/"
        },
        "outputId": "4cf21205-f9a5-42ec-e025-4a45d6c2cbcd"
      },
      "outputs": [
        {
          "output_type": "stream",
          "name": "stdout",
          "text": [
            "[ 1.  2.  3.  4.  5.  6.  7.  8.  9. 10. 11. 12. 13. 14. 15. 16. 17. 18.]\n",
            "[ 1.  2.  3.  4.  5.  6.  7.  8.  9. 10. 11. 12. 13. 14. 15. 16. 17. 18.]\n"
          ]
        }
      ],
      "source": [
        "def moving_average(a, n=3) :\n",
        "    ret = np.cumsum(a, dtype=float)\n",
        "    ret[n:] = ret[n:] - ret[:-n]\n",
        "    return ret[n - 1:] / n\n",
        "Z = np.arange(20)\n",
        "print(moving_average(Z, n=3))\n",
        "\n",
        "from numpy.lib.stride_tricks import sliding_window_view\n",
        "\n",
        "Z = np.arange(20)\n",
        "print(sliding_window_view(Z, window_shape=3).mean(axis=-1))"
      ]
    },
    {
      "cell_type": "markdown",
      "metadata": {
        "id": "YOA8rPHhs8xB"
      },
      "source": [
        "#### 76. Consider a one-dimensional array Z, build a two-dimensional array whose first row is (Z\\[0\\],Z\\[1\\],Z\\[2\\]) and each subsequent row is  shifted by 1 (last row should be (Z\\[-3\\],Z\\[-2\\],Z\\[-1\\]) (★★★) \n",
        "(**hint**: from numpy.lib import stride_tricks)"
      ]
    },
    {
      "cell_type": "code",
      "execution_count": 31,
      "metadata": {
        "id": "c7xYsrZWs8xC",
        "colab": {
          "base_uri": "https://localhost:8080/"
        },
        "outputId": "9f01016d-9608-4377-b97f-ea0ab1ca8ba8"
      },
      "outputs": [
        {
          "output_type": "stream",
          "name": "stdout",
          "text": [
            "[[0 1 2]\n",
            " [1 2 3]\n",
            " [2 3 4]\n",
            " [3 4 5]\n",
            " [4 5 6]\n",
            " [5 6 7]\n",
            " [6 7 8]\n",
            " [7 8 9]]\n"
          ]
        }
      ],
      "source": [
        "from numpy.lib import stride_tricks\n",
        "\n",
        "def rolling(a, window):\n",
        "    shape = (a.size - window + 1, window)\n",
        "    strides = (a.strides[0], a.strides[0])\n",
        "    return stride_tricks.as_strided(a, shape=shape, strides=strides)\n",
        "Z = rolling(np.arange(10), 3)\n",
        "print(Z)"
      ]
    },
    {
      "cell_type": "markdown",
      "metadata": {
        "id": "rGpbeB_ps8xC"
      },
      "source": [
        "#### 77. How to negate a boolean, or to change the sign of a float inplace? (★★★) \n",
        "(**hint**: np.logical_not, np.negative)"
      ]
    },
    {
      "cell_type": "code",
      "execution_count": 32,
      "metadata": {
        "id": "rT1IoCj0s8xC",
        "colab": {
          "base_uri": "https://localhost:8080/"
        },
        "outputId": "954b3760-bd1c-4df5-8e1a-a4a8ed79e616"
      },
      "outputs": [
        {
          "output_type": "execute_result",
          "data": {
            "text/plain": [
              "array([ 7.19752818e-01,  5.28505265e-01, -6.29520670e-01,  7.69813315e-01,\n",
              "        4.98689430e-01, -3.34275000e-01,  1.34297642e-01, -1.18921596e-01,\n",
              "       -8.84171682e-01,  5.94672796e-03, -1.57996598e-01, -3.38274753e-01,\n",
              "       -1.89917762e-01,  2.68115011e-01, -9.39171574e-01,  9.68133175e-01,\n",
              "        1.97981776e-01, -3.20752748e-01, -4.92569628e-01,  6.84003873e-01,\n",
              "        4.00607824e-01,  6.31237752e-01, -1.49691085e-01, -4.18189494e-02,\n",
              "       -5.95442867e-01, -5.45289193e-01, -1.66042395e-01,  1.08420697e-01,\n",
              "        1.01665596e-01,  1.94116899e-01, -4.84169323e-01, -1.28557711e-02,\n",
              "        4.34600463e-01,  4.25733578e-01, -3.59107138e-01,  2.02769826e-03,\n",
              "       -5.45702545e-03,  9.30039749e-01,  9.38996367e-01,  9.45006812e-01,\n",
              "        6.38202690e-01, -8.04033938e-01,  2.02791007e-01, -2.38157932e-01,\n",
              "        6.21605075e-01,  4.31344355e-01, -3.43434713e-01,  7.03001103e-01,\n",
              "       -7.59039859e-01, -2.32072395e-01,  4.66364177e-01,  9.25881969e-01,\n",
              "        1.87478154e-01,  1.32606845e-01, -9.10798972e-01,  9.61433979e-01,\n",
              "       -2.90327666e-01, -4.19355939e-01, -1.78866389e-01, -2.28329866e-01,\n",
              "       -7.12719326e-01,  8.08475868e-01,  5.92009364e-01,  5.62304163e-01,\n",
              "       -1.76016964e-01,  8.55838138e-04, -9.37752788e-01, -8.98476296e-01,\n",
              "        8.58442515e-01,  6.95039680e-01,  2.59596530e-01,  6.51881833e-01,\n",
              "       -1.46241768e-01,  5.83738869e-01,  9.06768835e-02, -1.34771188e-01,\n",
              "        3.31994805e-02, -4.32980227e-01,  8.93680627e-01, -6.84339635e-01,\n",
              "        6.19321399e-01, -1.79002201e-01, -4.89614749e-01, -1.96080944e-01,\n",
              "       -9.63778105e-01,  2.48289542e-02,  1.31157582e-01, -6.29787595e-01,\n",
              "       -2.61084605e-01,  1.93942687e-01,  6.39711272e-01, -1.68520602e-01,\n",
              "       -4.63163427e-01, -2.85619320e-01, -8.59542875e-01, -3.44560009e-01,\n",
              "       -1.84843742e-01,  3.35400349e-01, -7.54245642e-01,  4.94406262e-01])"
            ]
          },
          "metadata": {},
          "execution_count": 32
        }
      ],
      "source": [
        "Z = np.random.randint(0,2,100)\n",
        "np.logical_not(Z, out=Z)\n",
        "\n",
        "Z = np.random.uniform(-1.0,1.0,100)\n",
        "np.negative(Z, out=Z)"
      ]
    },
    {
      "cell_type": "markdown",
      "metadata": {
        "id": "qc1MRuXfs8xD"
      },
      "source": [
        "#### 78. Consider 2 sets of points P0,P1 describing lines (2d) and a point p, how to compute distance from p to each line i  (P0\\[i\\],P1\\[i\\])? (★★★)"
      ]
    },
    {
      "cell_type": "code",
      "execution_count": 33,
      "metadata": {
        "id": "rGdO-LHts8xD",
        "colab": {
          "base_uri": "https://localhost:8080/"
        },
        "outputId": "1850c540-76cd-449f-9575-38d3c6083d58"
      },
      "outputs": [
        {
          "output_type": "stream",
          "name": "stdout",
          "text": [
            "[ 1.56679137 10.48448592  6.74951237 12.9532289  14.96322533  7.11477848\n",
            " 14.3377319  10.34756941  6.67560708 13.81077632]\n"
          ]
        }
      ],
      "source": [
        "def distance(P0, P1, p):\n",
        "    T = P1 - P0\n",
        "    L = (T**2).sum(axis=1)\n",
        "    U = -((P0[:,0]-p[...,0])*T[:,0] + (P0[:,1]-p[...,1])*T[:,1]) / L\n",
        "    U = U.reshape(len(U),1)\n",
        "    D = P0 + U*T - p\n",
        "    return np.sqrt((D**2).sum(axis=1))\n",
        "\n",
        "P0 = np.random.uniform(-10,10,(10,2))\n",
        "P1 = np.random.uniform(-10,10,(10,2))\n",
        "p  = np.random.uniform(-10,10,( 1,2))\n",
        "print(distance(P0, P1, p))"
      ]
    },
    {
      "cell_type": "markdown",
      "metadata": {
        "id": "jKOiovwps8xD"
      },
      "source": [
        "#### 79. Consider 2 sets of points P0,P1 describing lines (2d) and a set of points P, how to compute distance from each point j (P\\[j\\]) to each line i (P0\\[i\\],P1\\[i\\])? (★★★)"
      ]
    },
    {
      "cell_type": "code",
      "execution_count": 34,
      "metadata": {
        "id": "zJ9f0o3fs8xE",
        "colab": {
          "base_uri": "https://localhost:8080/"
        },
        "outputId": "a412940f-d9ea-468d-fbcd-150cac01310f"
      },
      "outputs": [
        {
          "output_type": "stream",
          "name": "stdout",
          "text": [
            "[[ 0.40024936  1.68978049  0.89261121  9.27446475  5.6364008   9.26890969\n",
            "   7.97262075  5.63389767  1.38609437 10.75687193]\n",
            " [ 9.44639117 13.08063086  0.5190198   7.06758337 11.90214818  8.30029902\n",
            "   9.58941648  5.34720515 17.66033185  0.4056303 ]\n",
            " [ 1.89369399  0.62770559  6.38986541  3.10471025  1.10858194  4.45481104\n",
            "   3.27268336  6.9619069   3.78757462  3.33508159]\n",
            " [ 8.31893642  5.27599347 13.22099754  3.50613944  2.65793001  5.66856601\n",
            "   4.62229702 12.99126186  0.16241606  1.19641727]\n",
            " [ 4.13287637  2.56688783  8.41172693  1.24773149  2.24456062  5.49336397\n",
            "   4.35088071  9.15985428  2.09067843  2.43671025]\n",
            " [ 6.83859692  4.05318679  4.73296527 14.37980202  2.05793692  5.96034766\n",
            "   4.55410258  0.73654887  6.49226336 12.98337907]\n",
            " [ 3.25847411  3.88428314  5.29080998  4.87685021  5.67411619  9.08785937\n",
            "   7.87984552  8.93013178  0.06389429  7.21180255]\n",
            " [ 0.29363981  4.75007058  8.32938842  0.04270106  6.50442654  3.27609428\n",
            "   4.41291149  3.75942231 10.17549916  3.2160591 ]\n",
            " [ 5.08395439  7.93553681  2.92176262  5.36338716  7.13671806  3.64105671\n",
            "   4.88591878  0.65089122 12.49794003  0.75959452]\n",
            " [ 6.72041621 11.47757322  3.83188964  3.7463219  11.93375575  8.49685674\n",
            "   9.71943226  2.90099719 16.62343036  3.1151298 ]]\n"
          ]
        }
      ],
      "source": [
        "P0 = np.random.uniform(-10, 10, (10,2))\n",
        "P1 = np.random.uniform(-10,10,(10,2))\n",
        "p = np.random.uniform(-10, 10, (10,2))\n",
        "print(np.array([distance(P0,P1,p_i) for p_i in p]))"
      ]
    },
    {
      "cell_type": "markdown",
      "metadata": {
        "id": "iInmXkpVs8xE"
      },
      "source": [
        "#### 80. Consider an arbitrary array, write a function that extract a subpart with a fixed shape and centered on a given element (pad with a `fill` value when necessary) (★★★) \n",
        "(**hint**: minimum, maximum)"
      ]
    },
    {
      "cell_type": "code",
      "execution_count": 35,
      "metadata": {
        "id": "xgNL4u_Us8xE",
        "colab": {
          "base_uri": "https://localhost:8080/"
        },
        "outputId": "76cfc811-217c-4ed0-bc37-cfd877a57931"
      },
      "outputs": [
        {
          "output_type": "stream",
          "name": "stdout",
          "text": [
            "[[5 8 1 6 3 3 7 0 2 5]\n",
            " [8 5 3 6 1 3 9 6 7 6]\n",
            " [6 9 4 1 2 0 6 2 8 8]\n",
            " [3 6 8 5 9 9 8 5 3 4]\n",
            " [4 2 4 2 9 8 0 7 2 1]\n",
            " [3 6 6 5 3 2 4 9 0 0]\n",
            " [3 5 4 2 5 6 2 5 9 1]\n",
            " [7 0 0 1 9 7 4 4 1 5]\n",
            " [9 2 8 2 8 8 3 9 9 6]\n",
            " [0 0 4 9 7 4 1 3 1 8]]\n",
            "[[0 0 0 0 0]\n",
            " [0 5 8 1 6]\n",
            " [0 8 5 3 6]\n",
            " [0 6 9 4 1]\n",
            " [0 3 6 8 5]]\n"
          ]
        },
        {
          "output_type": "stream",
          "name": "stderr",
          "text": [
            "/usr/local/lib/python3.7/dist-packages/ipykernel_launcher.py:23: FutureWarning: Using a non-tuple sequence for multidimensional indexing is deprecated; use `arr[tuple(seq)]` instead of `arr[seq]`. In the future this will be interpreted as an array index, `arr[np.array(seq)]`, which will result either in an error or a different result.\n"
          ]
        }
      ],
      "source": [
        "Z = np.random.randint(0,10,(10,10))\n",
        "shape = (5,5)\n",
        "fill  = 0\n",
        "position = (1,1)\n",
        "\n",
        "R = np.ones(shape, dtype=Z.dtype)*fill\n",
        "P  = np.array(list(position)).astype(int)\n",
        "Rs = np.array(list(R.shape)).astype(int)\n",
        "Zs = np.array(list(Z.shape)).astype(int)\n",
        "\n",
        "R_start = np.zeros((len(shape),)).astype(int)\n",
        "R_stop  = np.array(list(shape)).astype(int)\n",
        "Z_start = (P-Rs//2)\n",
        "Z_stop  = (P+Rs//2)+Rs%2\n",
        "\n",
        "R_start = (R_start - np.minimum(Z_start,0)).tolist()\n",
        "Z_start = (np.maximum(Z_start,0)).tolist()\n",
        "R_stop = np.maximum(R_start, (R_stop - np.maximum(Z_stop-Zs,0))).tolist()\n",
        "Z_stop = (np.minimum(Z_stop,Zs)).tolist()\n",
        "\n",
        "r = [slice(start,stop) for start,stop in zip(R_start,R_stop)]\n",
        "z = [slice(start,stop) for start,stop in zip(Z_start,Z_stop)]\n",
        "R[r] = Z[z]\n",
        "print(Z)\n",
        "print(R)"
      ]
    },
    {
      "cell_type": "markdown",
      "metadata": {
        "id": "iR2mSuB7s8xF"
      },
      "source": [
        "#### 81. Consider an array Z = \\[1,2,3,4,5,6,7,8,9,10,11,12,13,14\\], how to generate an array R = \\[\\[1,2,3,4\\], \\[2,3,4,5\\], \\[3,4,5,6\\], ..., \\[11,12,13,14\\]\\]? (★★★) \n",
        "(**hint**: stride\\_tricks.as\\_strided)"
      ]
    },
    {
      "cell_type": "code",
      "execution_count": 36,
      "metadata": {
        "id": "6Iem4k_2s8xF",
        "colab": {
          "base_uri": "https://localhost:8080/"
        },
        "outputId": "2f9324f4-82a0-4797-8ee4-fb0cc1e04eee"
      },
      "outputs": [
        {
          "output_type": "stream",
          "name": "stdout",
          "text": [
            "[[ 1  2  3  4]\n",
            " [ 2  3  4  5]\n",
            " [ 3  4  5  6]\n",
            " [ 4  5  6  7]\n",
            " [ 5  6  7  8]\n",
            " [ 6  7  8  9]\n",
            " [ 7  8  9 10]\n",
            " [ 8  9 10 11]\n",
            " [ 9 10 11 12]\n",
            " [10 11 12 13]\n",
            " [11 12 13 14]]\n",
            "[[ 1  2  3  4]\n",
            " [ 2  3  4  5]\n",
            " [ 3  4  5  6]\n",
            " [ 4  5  6  7]\n",
            " [ 5  6  7  8]\n",
            " [ 6  7  8  9]\n",
            " [ 7  8  9 10]\n",
            " [ 8  9 10 11]\n",
            " [ 9 10 11 12]\n",
            " [10 11 12 13]\n",
            " [11 12 13 14]]\n"
          ]
        }
      ],
      "source": [
        "Z = np.arange(1,15,dtype=np.uint32)\n",
        "R = stride_tricks.as_strided(Z,(11,4),(4,4))\n",
        "print(R)\n",
        "\n",
        "Z = np.arange(1, 15, dtype=np.uint32)\n",
        "print(sliding_window_view(Z, window_shape=4))"
      ]
    },
    {
      "cell_type": "markdown",
      "metadata": {
        "id": "weehfFM9s8xF"
      },
      "source": [
        "#### 82. Compute a matrix rank (★★★) \n",
        "(**hint**: np.linalg.svd) (suggestion: np.linalg.svd)"
      ]
    },
    {
      "cell_type": "code",
      "execution_count": 37,
      "metadata": {
        "id": "NCnohYlCs8xG",
        "colab": {
          "base_uri": "https://localhost:8080/"
        },
        "outputId": "4416700a-46ad-4494-987f-ff67de562a05"
      },
      "outputs": [
        {
          "output_type": "stream",
          "name": "stdout",
          "text": [
            "10\n",
            "10\n"
          ]
        }
      ],
      "source": [
        "Z = np.random.uniform(0,1,(10,10))\n",
        "U, S, V = np.linalg.svd(Z) # Singular Value Decomposition\n",
        "rank = np.sum(S > 1e-10)\n",
        "print(rank)\n",
        "\n",
        "rank = np.linalg.matrix_rank(Z)\n",
        "print(rank)"
      ]
    },
    {
      "cell_type": "markdown",
      "metadata": {
        "id": "9gR3SZ40s8xG"
      },
      "source": [
        "#### 83. How to find the most frequent value in an array? \n",
        "(**hint**: np.bincount, argmax)"
      ]
    },
    {
      "cell_type": "code",
      "execution_count": 38,
      "metadata": {
        "id": "vLmg5wits8xH",
        "colab": {
          "base_uri": "https://localhost:8080/"
        },
        "outputId": "6f91f67a-38df-4bcb-f433-4676185ac230"
      },
      "outputs": [
        {
          "output_type": "stream",
          "name": "stdout",
          "text": [
            "7\n"
          ]
        }
      ],
      "source": [
        "Z = np.random.randint(0,10,50)\n",
        "print(np.bincount(Z).argmax())"
      ]
    },
    {
      "cell_type": "markdown",
      "metadata": {
        "id": "NQ_VR22Js8xH"
      },
      "source": [
        "#### 84. Extract all the contiguous 3x3 blocks from a random 10x10 matrix (★★★) \n",
        "(**hint**: stride\\_tricks.as\\_strided)"
      ]
    },
    {
      "cell_type": "code",
      "execution_count": 39,
      "metadata": {
        "id": "_ulqMbYts8xI",
        "colab": {
          "base_uri": "https://localhost:8080/"
        },
        "outputId": "555ea26d-402b-4425-95d2-354532f59917"
      },
      "outputs": [
        {
          "output_type": "stream",
          "name": "stdout",
          "text": [
            "[[[[4 3 2]\n",
            "   [1 0 2]\n",
            "   [0 2 3]]\n",
            "\n",
            "  [[3 2 1]\n",
            "   [0 2 3]\n",
            "   [2 3 0]]\n",
            "\n",
            "  [[2 1 4]\n",
            "   [2 3 0]\n",
            "   [3 0 3]]\n",
            "\n",
            "  [[1 4 1]\n",
            "   [3 0 1]\n",
            "   [0 3 4]]\n",
            "\n",
            "  [[4 1 0]\n",
            "   [0 1 3]\n",
            "   [3 4 4]]\n",
            "\n",
            "  [[1 0 0]\n",
            "   [1 3 2]\n",
            "   [4 4 0]]\n",
            "\n",
            "  [[0 0 4]\n",
            "   [3 2 4]\n",
            "   [4 0 0]]\n",
            "\n",
            "  [[0 4 2]\n",
            "   [2 4 0]\n",
            "   [0 0 1]]]\n",
            "\n",
            "\n",
            " [[[1 0 2]\n",
            "   [0 2 3]\n",
            "   [4 2 4]]\n",
            "\n",
            "  [[0 2 3]\n",
            "   [2 3 0]\n",
            "   [2 4 0]]\n",
            "\n",
            "  [[2 3 0]\n",
            "   [3 0 3]\n",
            "   [4 0 0]]\n",
            "\n",
            "  [[3 0 1]\n",
            "   [0 3 4]\n",
            "   [0 0 4]]\n",
            "\n",
            "  [[0 1 3]\n",
            "   [3 4 4]\n",
            "   [0 4 2]]\n",
            "\n",
            "  [[1 3 2]\n",
            "   [4 4 0]\n",
            "   [4 2 1]]\n",
            "\n",
            "  [[3 2 4]\n",
            "   [4 0 0]\n",
            "   [2 1 0]]\n",
            "\n",
            "  [[2 4 0]\n",
            "   [0 0 1]\n",
            "   [1 0 2]]]\n",
            "\n",
            "\n",
            " [[[0 2 3]\n",
            "   [4 2 4]\n",
            "   [1 2 1]]\n",
            "\n",
            "  [[2 3 0]\n",
            "   [2 4 0]\n",
            "   [2 1 0]]\n",
            "\n",
            "  [[3 0 3]\n",
            "   [4 0 0]\n",
            "   [1 0 2]]\n",
            "\n",
            "  [[0 3 4]\n",
            "   [0 0 4]\n",
            "   [0 2 3]]\n",
            "\n",
            "  [[3 4 4]\n",
            "   [0 4 2]\n",
            "   [2 3 3]]\n",
            "\n",
            "  [[4 4 0]\n",
            "   [4 2 1]\n",
            "   [3 3 4]]\n",
            "\n",
            "  [[4 0 0]\n",
            "   [2 1 0]\n",
            "   [3 4 1]]\n",
            "\n",
            "  [[0 0 1]\n",
            "   [1 0 2]\n",
            "   [4 1 2]]]\n",
            "\n",
            "\n",
            " [[[4 2 4]\n",
            "   [1 2 1]\n",
            "   [2 4 1]]\n",
            "\n",
            "  [[2 4 0]\n",
            "   [2 1 0]\n",
            "   [4 1 4]]\n",
            "\n",
            "  [[4 0 0]\n",
            "   [1 0 2]\n",
            "   [1 4 2]]\n",
            "\n",
            "  [[0 0 4]\n",
            "   [0 2 3]\n",
            "   [4 2 2]]\n",
            "\n",
            "  [[0 4 2]\n",
            "   [2 3 3]\n",
            "   [2 2 0]]\n",
            "\n",
            "  [[4 2 1]\n",
            "   [3 3 4]\n",
            "   [2 0 3]]\n",
            "\n",
            "  [[2 1 0]\n",
            "   [3 4 1]\n",
            "   [0 3 4]]\n",
            "\n",
            "  [[1 0 2]\n",
            "   [4 1 2]\n",
            "   [3 4 2]]]\n",
            "\n",
            "\n",
            " [[[1 2 1]\n",
            "   [2 4 1]\n",
            "   [2 4 3]]\n",
            "\n",
            "  [[2 1 0]\n",
            "   [4 1 4]\n",
            "   [4 3 1]]\n",
            "\n",
            "  [[1 0 2]\n",
            "   [1 4 2]\n",
            "   [3 1 4]]\n",
            "\n",
            "  [[0 2 3]\n",
            "   [4 2 2]\n",
            "   [1 4 3]]\n",
            "\n",
            "  [[2 3 3]\n",
            "   [2 2 0]\n",
            "   [4 3 0]]\n",
            "\n",
            "  [[3 3 4]\n",
            "   [2 0 3]\n",
            "   [3 0 2]]\n",
            "\n",
            "  [[3 4 1]\n",
            "   [0 3 4]\n",
            "   [0 2 0]]\n",
            "\n",
            "  [[4 1 2]\n",
            "   [3 4 2]\n",
            "   [2 0 3]]]\n",
            "\n",
            "\n",
            " [[[2 4 1]\n",
            "   [2 4 3]\n",
            "   [4 0 3]]\n",
            "\n",
            "  [[4 1 4]\n",
            "   [4 3 1]\n",
            "   [0 3 1]]\n",
            "\n",
            "  [[1 4 2]\n",
            "   [3 1 4]\n",
            "   [3 1 3]]\n",
            "\n",
            "  [[4 2 2]\n",
            "   [1 4 3]\n",
            "   [1 3 3]]\n",
            "\n",
            "  [[2 2 0]\n",
            "   [4 3 0]\n",
            "   [3 3 2]]\n",
            "\n",
            "  [[2 0 3]\n",
            "   [3 0 2]\n",
            "   [3 2 4]]\n",
            "\n",
            "  [[0 3 4]\n",
            "   [0 2 0]\n",
            "   [2 4 1]]\n",
            "\n",
            "  [[3 4 2]\n",
            "   [2 0 3]\n",
            "   [4 1 3]]]\n",
            "\n",
            "\n",
            " [[[2 4 3]\n",
            "   [4 0 3]\n",
            "   [4 0 3]]\n",
            "\n",
            "  [[4 3 1]\n",
            "   [0 3 1]\n",
            "   [0 3 1]]\n",
            "\n",
            "  [[3 1 4]\n",
            "   [3 1 3]\n",
            "   [3 1 0]]\n",
            "\n",
            "  [[1 4 3]\n",
            "   [1 3 3]\n",
            "   [1 0 2]]\n",
            "\n",
            "  [[4 3 0]\n",
            "   [3 3 2]\n",
            "   [0 2 0]]\n",
            "\n",
            "  [[3 0 2]\n",
            "   [3 2 4]\n",
            "   [2 0 4]]\n",
            "\n",
            "  [[0 2 0]\n",
            "   [2 4 1]\n",
            "   [0 4 1]]\n",
            "\n",
            "  [[2 0 3]\n",
            "   [4 1 3]\n",
            "   [4 1 3]]]\n",
            "\n",
            "\n",
            " [[[4 0 3]\n",
            "   [4 0 3]\n",
            "   [4 2 0]]\n",
            "\n",
            "  [[0 3 1]\n",
            "   [0 3 1]\n",
            "   [2 0 3]]\n",
            "\n",
            "  [[3 1 3]\n",
            "   [3 1 0]\n",
            "   [0 3 3]]\n",
            "\n",
            "  [[1 3 3]\n",
            "   [1 0 2]\n",
            "   [3 3 0]]\n",
            "\n",
            "  [[3 3 2]\n",
            "   [0 2 0]\n",
            "   [3 0 4]]\n",
            "\n",
            "  [[3 2 4]\n",
            "   [2 0 4]\n",
            "   [0 4 2]]\n",
            "\n",
            "  [[2 4 1]\n",
            "   [0 4 1]\n",
            "   [4 2 4]]\n",
            "\n",
            "  [[4 1 3]\n",
            "   [4 1 3]\n",
            "   [2 4 0]]]]\n",
            "[[[[1 1 2]\n",
            "   [4 0 4]\n",
            "   [4 2 4]]\n",
            "\n",
            "  [[1 2 4]\n",
            "   [0 4 3]\n",
            "   [2 4 2]]\n",
            "\n",
            "  [[2 4 2]\n",
            "   [4 3 2]\n",
            "   [4 2 4]]\n",
            "\n",
            "  [[4 2 0]\n",
            "   [3 2 4]\n",
            "   [2 4 1]]\n",
            "\n",
            "  [[2 0 4]\n",
            "   [2 4 2]\n",
            "   [4 1 1]]\n",
            "\n",
            "  [[0 4 4]\n",
            "   [4 2 0]\n",
            "   [1 1 1]]\n",
            "\n",
            "  [[4 4 0]\n",
            "   [2 0 3]\n",
            "   [1 1 0]]\n",
            "\n",
            "  [[4 0 0]\n",
            "   [0 3 2]\n",
            "   [1 0 3]]]\n",
            "\n",
            "\n",
            " [[[4 0 4]\n",
            "   [4 2 4]\n",
            "   [1 0 0]]\n",
            "\n",
            "  [[0 4 3]\n",
            "   [2 4 2]\n",
            "   [0 0 3]]\n",
            "\n",
            "  [[4 3 2]\n",
            "   [4 2 4]\n",
            "   [0 3 1]]\n",
            "\n",
            "  [[3 2 4]\n",
            "   [2 4 1]\n",
            "   [3 1 0]]\n",
            "\n",
            "  [[2 4 2]\n",
            "   [4 1 1]\n",
            "   [1 0 0]]\n",
            "\n",
            "  [[4 2 0]\n",
            "   [1 1 1]\n",
            "   [0 0 3]]\n",
            "\n",
            "  [[2 0 3]\n",
            "   [1 1 0]\n",
            "   [0 3 4]]\n",
            "\n",
            "  [[0 3 2]\n",
            "   [1 0 3]\n",
            "   [3 4 1]]]\n",
            "\n",
            "\n",
            " [[[4 2 4]\n",
            "   [1 0 0]\n",
            "   [4 1 4]]\n",
            "\n",
            "  [[2 4 2]\n",
            "   [0 0 3]\n",
            "   [1 4 1]]\n",
            "\n",
            "  [[4 2 4]\n",
            "   [0 3 1]\n",
            "   [4 1 1]]\n",
            "\n",
            "  [[2 4 1]\n",
            "   [3 1 0]\n",
            "   [1 1 3]]\n",
            "\n",
            "  [[4 1 1]\n",
            "   [1 0 0]\n",
            "   [1 3 3]]\n",
            "\n",
            "  [[1 1 1]\n",
            "   [0 0 3]\n",
            "   [3 3 1]]\n",
            "\n",
            "  [[1 1 0]\n",
            "   [0 3 4]\n",
            "   [3 1 0]]\n",
            "\n",
            "  [[1 0 3]\n",
            "   [3 4 1]\n",
            "   [1 0 0]]]\n",
            "\n",
            "\n",
            " [[[1 0 0]\n",
            "   [4 1 4]\n",
            "   [3 3 0]]\n",
            "\n",
            "  [[0 0 3]\n",
            "   [1 4 1]\n",
            "   [3 0 1]]\n",
            "\n",
            "  [[0 3 1]\n",
            "   [4 1 1]\n",
            "   [0 1 0]]\n",
            "\n",
            "  [[3 1 0]\n",
            "   [1 1 3]\n",
            "   [1 0 0]]\n",
            "\n",
            "  [[1 0 0]\n",
            "   [1 3 3]\n",
            "   [0 0 1]]\n",
            "\n",
            "  [[0 0 3]\n",
            "   [3 3 1]\n",
            "   [0 1 2]]\n",
            "\n",
            "  [[0 3 4]\n",
            "   [3 1 0]\n",
            "   [1 2 3]]\n",
            "\n",
            "  [[3 4 1]\n",
            "   [1 0 0]\n",
            "   [2 3 3]]]\n",
            "\n",
            "\n",
            " [[[4 1 4]\n",
            "   [3 3 0]\n",
            "   [2 2 1]]\n",
            "\n",
            "  [[1 4 1]\n",
            "   [3 0 1]\n",
            "   [2 1 4]]\n",
            "\n",
            "  [[4 1 1]\n",
            "   [0 1 0]\n",
            "   [1 4 0]]\n",
            "\n",
            "  [[1 1 3]\n",
            "   [1 0 0]\n",
            "   [4 0 1]]\n",
            "\n",
            "  [[1 3 3]\n",
            "   [0 0 1]\n",
            "   [0 1 2]]\n",
            "\n",
            "  [[3 3 1]\n",
            "   [0 1 2]\n",
            "   [1 2 1]]\n",
            "\n",
            "  [[3 1 0]\n",
            "   [1 2 3]\n",
            "   [2 1 2]]\n",
            "\n",
            "  [[1 0 0]\n",
            "   [2 3 3]\n",
            "   [1 2 2]]]\n",
            "\n",
            "\n",
            " [[[3 3 0]\n",
            "   [2 2 1]\n",
            "   [2 3 2]]\n",
            "\n",
            "  [[3 0 1]\n",
            "   [2 1 4]\n",
            "   [3 2 4]]\n",
            "\n",
            "  [[0 1 0]\n",
            "   [1 4 0]\n",
            "   [2 4 4]]\n",
            "\n",
            "  [[1 0 0]\n",
            "   [4 0 1]\n",
            "   [4 4 3]]\n",
            "\n",
            "  [[0 0 1]\n",
            "   [0 1 2]\n",
            "   [4 3 1]]\n",
            "\n",
            "  [[0 1 2]\n",
            "   [1 2 1]\n",
            "   [3 1 4]]\n",
            "\n",
            "  [[1 2 3]\n",
            "   [2 1 2]\n",
            "   [1 4 1]]\n",
            "\n",
            "  [[2 3 3]\n",
            "   [1 2 2]\n",
            "   [4 1 2]]]\n",
            "\n",
            "\n",
            " [[[2 2 1]\n",
            "   [2 3 2]\n",
            "   [0 3 4]]\n",
            "\n",
            "  [[2 1 4]\n",
            "   [3 2 4]\n",
            "   [3 4 3]]\n",
            "\n",
            "  [[1 4 0]\n",
            "   [2 4 4]\n",
            "   [4 3 4]]\n",
            "\n",
            "  [[4 0 1]\n",
            "   [4 4 3]\n",
            "   [3 4 0]]\n",
            "\n",
            "  [[0 1 2]\n",
            "   [4 3 1]\n",
            "   [4 0 0]]\n",
            "\n",
            "  [[1 2 1]\n",
            "   [3 1 4]\n",
            "   [0 0 2]]\n",
            "\n",
            "  [[2 1 2]\n",
            "   [1 4 1]\n",
            "   [0 2 1]]\n",
            "\n",
            "  [[1 2 2]\n",
            "   [4 1 2]\n",
            "   [2 1 0]]]\n",
            "\n",
            "\n",
            " [[[2 3 2]\n",
            "   [0 3 4]\n",
            "   [4 1 3]]\n",
            "\n",
            "  [[3 2 4]\n",
            "   [3 4 3]\n",
            "   [1 3 2]]\n",
            "\n",
            "  [[2 4 4]\n",
            "   [4 3 4]\n",
            "   [3 2 1]]\n",
            "\n",
            "  [[4 4 3]\n",
            "   [3 4 0]\n",
            "   [2 1 1]]\n",
            "\n",
            "  [[4 3 1]\n",
            "   [4 0 0]\n",
            "   [1 1 2]]\n",
            "\n",
            "  [[3 1 4]\n",
            "   [0 0 2]\n",
            "   [1 2 0]]\n",
            "\n",
            "  [[1 4 1]\n",
            "   [0 2 1]\n",
            "   [2 0 4]]\n",
            "\n",
            "  [[4 1 2]\n",
            "   [2 1 0]\n",
            "   [0 4 3]]]]\n"
          ]
        }
      ],
      "source": [
        "Z = np.random.randint(0,5,(10,10))\n",
        "n = 3\n",
        "i = 1 + (Z.shape[0]-3)\n",
        "j = 1 + (Z.shape[1]-3)\n",
        "C = stride_tricks.as_strided(Z, shape=(i, j, n, n), strides=Z.strides + Z.strides)\n",
        "print(C)\n",
        "Z = np.random.randint(0,5,(10,10))\n",
        "print(sliding_window_view(Z, window_shape=(3, 3)))"
      ]
    },
    {
      "cell_type": "markdown",
      "metadata": {
        "id": "GM_gpEhAs8xI"
      },
      "source": [
        "#### 85. Create a 2D array subclass such that Z\\[i,j\\] == Z\\[j,i\\] (★★★) \n",
        "(**hint**: class method)"
      ]
    },
    {
      "cell_type": "code",
      "execution_count": 40,
      "metadata": {
        "id": "rtwHX5lRs8xJ",
        "colab": {
          "base_uri": "https://localhost:8080/"
        },
        "outputId": "75d8ae34-f1ad-4fbf-bac7-a01a9d845893"
      },
      "outputs": [
        {
          "output_type": "stream",
          "name": "stdout",
          "text": [
            "[[ 9  3 10 14  3]\n",
            " [ 3  1  5  7 10]\n",
            " [10  5  9 42  9]\n",
            " [14  7 42  7 10]\n",
            " [ 3 10  9 10  8]]\n"
          ]
        }
      ],
      "source": [
        "class Symetric(np.ndarray):\n",
        "    def __setitem__(self, index, value):\n",
        "        i,j = index\n",
        "        super(Symetric, self).__setitem__((i,j), value)\n",
        "        super(Symetric, self).__setitem__((j,i), value)\n",
        "\n",
        "def symetric(Z):\n",
        "    return np.asarray(Z + Z.T - np.diag(Z.diagonal())).view(Symetric)\n",
        "\n",
        "S = symetric(np.random.randint(0,10,(5,5)))\n",
        "S[2,3] = 42\n",
        "print(S)"
      ]
    },
    {
      "cell_type": "markdown",
      "metadata": {
        "id": "A0GSwQ3Ws8xJ"
      },
      "source": [
        "#### 86. Consider a set of p matrices wich shape (n,n) and a set of p vectors with shape (n,1). How to compute the sum of of the p matrix products at once? (result has shape (n,1)) (★★★) \n",
        "(**hint**: np.tensordot)"
      ]
    },
    {
      "cell_type": "code",
      "execution_count": 41,
      "metadata": {
        "id": "CLlQ9xTfs8xK",
        "colab": {
          "base_uri": "https://localhost:8080/"
        },
        "outputId": "b18a7919-3c9e-44f1-cf22-a7eab8f702be"
      },
      "outputs": [
        {
          "output_type": "stream",
          "name": "stdout",
          "text": [
            "[[200.]\n",
            " [200.]\n",
            " [200.]\n",
            " [200.]\n",
            " [200.]\n",
            " [200.]\n",
            " [200.]\n",
            " [200.]\n",
            " [200.]\n",
            " [200.]\n",
            " [200.]\n",
            " [200.]\n",
            " [200.]\n",
            " [200.]\n",
            " [200.]\n",
            " [200.]\n",
            " [200.]\n",
            " [200.]\n",
            " [200.]\n",
            " [200.]]\n"
          ]
        }
      ],
      "source": [
        "p, n = 10, 20\n",
        "M = np.ones((p,n,n))\n",
        "V = np.ones((p,n,1))\n",
        "S = np.tensordot(M, V, axes=[[0, 2], [0, 1]])\n",
        "print(S)\n"
      ]
    },
    {
      "cell_type": "markdown",
      "metadata": {
        "id": "fRSn8Dc5s8xK"
      },
      "source": [
        "#### 87. Consider a 16x16 array, how to get the block-sum (block size is 4x4)? (★★★) \n",
        "(**hint**: np.add.reduceat)"
      ]
    },
    {
      "cell_type": "code",
      "execution_count": 42,
      "metadata": {
        "id": "EwPQM9FAs8xL",
        "colab": {
          "base_uri": "https://localhost:8080/"
        },
        "outputId": "d93d5986-b736-4c8d-a055-9b46ddec0917"
      },
      "outputs": [
        {
          "output_type": "stream",
          "name": "stdout",
          "text": [
            "[[16. 16. 16. 16.]\n",
            " [16. 16. 16. 16.]\n",
            " [16. 16. 16. 16.]\n",
            " [16. 16. 16. 16.]]\n",
            "[[16. 16. 16. 16.]\n",
            " [16. 16. 16. 16.]\n",
            " [16. 16. 16. 16.]\n",
            " [16. 16. 16. 16.]]\n"
          ]
        }
      ],
      "source": [
        "Z = np.ones((16,16))\n",
        "k = 4\n",
        "S = np.add.reduceat(np.add.reduceat(Z, np.arange(0, Z.shape[0], k), axis=0),\n",
        "                                       np.arange(0, Z.shape[1], k), axis=1)\n",
        "print(S)\n",
        "\n",
        "\n",
        "\n",
        "Z = np.ones((16,16))\n",
        "k = 4\n",
        "\n",
        "windows = np.lib.stride_tricks.sliding_window_view(Z, (k, k))\n",
        "S = windows[::k, ::k, ...].sum(axis=(-2, -1))\n",
        "\n",
        "\n",
        "Z = np.ones((16, 16))\n",
        "k = 4\n",
        "print(sliding_window_view(Z, window_shape=(k, k))[::k, ::k].sum(axis=(-2, -1)))"
      ]
    },
    {
      "cell_type": "markdown",
      "metadata": {
        "id": "wdQzrEgQs8xL"
      },
      "source": [
        "#### 88. How to implement the Game of Life using numpy arrays? (★★★)"
      ]
    },
    {
      "cell_type": "code",
      "execution_count": 43,
      "metadata": {
        "id": "2EieoUWNs8xM",
        "colab": {
          "base_uri": "https://localhost:8080/"
        },
        "outputId": "c42ac0d6-26ca-46d9-beab-2c33c522cb60"
      },
      "outputs": [
        {
          "output_type": "stream",
          "name": "stdout",
          "text": [
            "[[0 0 0 ... 0 0 0]\n",
            " [0 0 0 ... 0 0 0]\n",
            " [0 0 0 ... 0 0 0]\n",
            " ...\n",
            " [0 0 0 ... 0 0 0]\n",
            " [0 0 0 ... 0 0 0]\n",
            " [0 0 0 ... 0 0 0]]\n"
          ]
        }
      ],
      "source": [
        "def iterate(Z):\n",
        "    # Count neighbours\n",
        "    N = (Z[0:-2,0:-2] + Z[0:-2,1:-1] + Z[0:-2,2:] +\n",
        "         Z[1:-1,0:-2]                + Z[1:-1,2:] +\n",
        "         Z[2:  ,0:-2] + Z[2:  ,1:-1] + Z[2:  ,2:])\n",
        "\n",
        "    # Apply rules\n",
        "    birth = (N==3) & (Z[1:-1,1:-1]==0)\n",
        "    survive = ((N==2) | (N==3)) & (Z[1:-1,1:-1]==1)\n",
        "    Z[...] = 0\n",
        "    Z[1:-1,1:-1][birth | survive] = 1\n",
        "    return Z\n",
        "\n",
        "Z = np.random.randint(0,2,(50,50))\n",
        "for i in range(100): Z = iterate(Z)\n",
        "print(Z)"
      ]
    },
    {
      "cell_type": "markdown",
      "metadata": {
        "id": "dbfZCZexs8xM"
      },
      "source": [
        "#### 89. How to get the n largest values of an array (★★★) \n",
        "(**hint**: np.argsort | np.argpartition)"
      ]
    },
    {
      "cell_type": "code",
      "execution_count": 44,
      "metadata": {
        "id": "y4_zjy7Xs8xN",
        "colab": {
          "base_uri": "https://localhost:8080/"
        },
        "outputId": "b3ddd02e-2b79-4688-bac0-53a03252a292"
      },
      "outputs": [
        {
          "output_type": "stream",
          "name": "stdout",
          "text": [
            "[9995 9996 9997 9998 9999]\n",
            "[9999 9998 9997 9996 9995]\n"
          ]
        }
      ],
      "source": [
        "Z = np.arange(10000)\n",
        "np.random.shuffle(Z)\n",
        "n = 5\n",
        "\n",
        "# Slow\n",
        "print (Z[np.argsort(Z)[-n:]])\n",
        "\n",
        "# Fast\n",
        "print (Z[np.argpartition(-Z,n)[:n]])"
      ]
    },
    {
      "cell_type": "markdown",
      "metadata": {
        "id": "cWwRGv42s8xN"
      },
      "source": [
        "#### 90. Given an arbitrary number of vectors, build the cartesian product (every combinations of every item) (★★★) \n",
        "(**hint**: np.indices)"
      ]
    },
    {
      "cell_type": "code",
      "execution_count": 45,
      "metadata": {
        "scrolled": true,
        "id": "KMqyumv-s8xO",
        "colab": {
          "base_uri": "https://localhost:8080/"
        },
        "outputId": "37ac2fc9-ce36-463a-f7fd-c045e99c243f"
      },
      "outputs": [
        {
          "output_type": "stream",
          "name": "stdout",
          "text": [
            "[[1 4 6]\n",
            " [1 4 7]\n",
            " [1 5 6]\n",
            " [1 5 7]\n",
            " [2 4 6]\n",
            " [2 4 7]\n",
            " [2 5 6]\n",
            " [2 5 7]\n",
            " [3 4 6]\n",
            " [3 4 7]\n",
            " [3 5 6]\n",
            " [3 5 7]]\n"
          ]
        }
      ],
      "source": [
        "def cartesian(arrays):\n",
        "    arrays = [np.asarray(a) for a in arrays]\n",
        "    shape = (len(x) for x in arrays)\n",
        "\n",
        "    ix = np.indices(shape, dtype=int)\n",
        "    ix = ix.reshape(len(arrays), -1).T\n",
        "\n",
        "    for n, arr in enumerate(arrays):\n",
        "        ix[:, n] = arrays[n][ix[:, n]]\n",
        "\n",
        "    return ix\n",
        "\n",
        "print (cartesian(([1, 2, 3], [4, 5], [6, 7])))"
      ]
    },
    {
      "cell_type": "markdown",
      "metadata": {
        "id": "WsrCDG3ys8xO"
      },
      "source": [
        "#### 91. How to create a record array from a regular array? (★★★) \n",
        "(**hint**: np.core.records.fromarrays)"
      ]
    },
    {
      "cell_type": "code",
      "execution_count": 46,
      "metadata": {
        "id": "IMavEYJJs8xP",
        "colab": {
          "base_uri": "https://localhost:8080/"
        },
        "outputId": "0e91cda3-20e6-4ed8-f5a4-ebcca6291e55"
      },
      "outputs": [
        {
          "output_type": "stream",
          "name": "stdout",
          "text": [
            "[(b'Hello', 2.5, 3) (b'World', 3.6, 2)]\n"
          ]
        }
      ],
      "source": [
        "Z = np.array([(\"Hello\", 2.5, 3),\n",
        "              (\"World\", 3.6, 2)])\n",
        "R = np.core.records.fromarrays(Z.T,\n",
        "                               names='col1, col2, col3',\n",
        "                               formats = 'S8, f8, i8')\n",
        "print(R)"
      ]
    },
    {
      "cell_type": "markdown",
      "metadata": {
        "id": "VL6pGjm3s8xP"
      },
      "source": [
        "#### 92. Consider a large vector Z, compute Z to the power of 3 using 3 different methods (★★★) \n",
        "(**hint**: np.power, \\*, np.einsum)"
      ]
    },
    {
      "cell_type": "code",
      "execution_count": 47,
      "metadata": {
        "id": "blK5Alb9s8xQ",
        "colab": {
          "base_uri": "https://localhost:8080/"
        },
        "outputId": "2a4cfb1d-1ffb-44cb-85fd-1c4595bbcbcf"
      },
      "outputs": [
        {
          "output_type": "stream",
          "name": "stdout",
          "text": [
            "3.74 s ± 9.37 ms per loop (mean ± std. dev. of 7 runs, 1 loop each)\n",
            "145 ms ± 489 µs per loop (mean ± std. dev. of 7 runs, 10 loops each)\n",
            "128 ms ± 1.26 ms per loop (mean ± std. dev. of 7 runs, 10 loops each)\n"
          ]
        }
      ],
      "source": [
        "x = np.random.rand(int(5e7))\n",
        "\n",
        "%timeit np.power(x,3)\n",
        "%timeit x*x*x\n",
        "%timeit np.einsum('i,i,i->i',x,x,x)"
      ]
    },
    {
      "cell_type": "markdown",
      "metadata": {
        "id": "RYAdfAxrs8xQ"
      },
      "source": [
        "#### 93. Consider two arrays A and B of shape (8,3) and (2,2). How to find rows of A that contain elements of each row of B regardless of the order of the elements in B? (★★★) \n",
        "(**hint**: np.where)"
      ]
    },
    {
      "cell_type": "code",
      "execution_count": 48,
      "metadata": {
        "id": "0r04o2S6s8xR",
        "colab": {
          "base_uri": "https://localhost:8080/"
        },
        "outputId": "906ff1f9-2b9f-4c7c-aecf-081cf53aa350"
      },
      "outputs": [
        {
          "output_type": "stream",
          "name": "stdout",
          "text": [
            "[0 1 2 3 4 5]\n"
          ]
        }
      ],
      "source": [
        "A = np.random.randint(0,5,(8,3))\n",
        "B = np.random.randint(0,5,(2,2))\n",
        "\n",
        "C = (A[..., np.newaxis, np.newaxis] == B)\n",
        "rows = np.where(C.any((3,1)).all(1))[0]\n",
        "print(rows)"
      ]
    },
    {
      "cell_type": "markdown",
      "metadata": {
        "id": "mf1yEcpNs8xR"
      },
      "source": [
        "#### 94. Considering a 10x3 matrix, extract rows with unequal values (e.g. \\[2,2,3\\]) (★★★)"
      ]
    },
    {
      "cell_type": "code",
      "execution_count": 49,
      "metadata": {
        "id": "1Z468sVns8xR",
        "colab": {
          "base_uri": "https://localhost:8080/"
        },
        "outputId": "7531af2a-ca01-4620-f2d2-a84e4ba1a897"
      },
      "outputs": [
        {
          "output_type": "stream",
          "name": "stdout",
          "text": [
            "[[2 3 1]\n",
            " [2 1 0]\n",
            " [1 3 0]\n",
            " [4 3 4]\n",
            " [2 3 4]\n",
            " [0 3 0]\n",
            " [1 2 3]\n",
            " [2 0 1]\n",
            " [4 1 4]\n",
            " [2 1 0]]\n",
            "[[2 3 1]\n",
            " [2 1 0]\n",
            " [1 3 0]\n",
            " [4 3 4]\n",
            " [2 3 4]\n",
            " [0 3 0]\n",
            " [1 2 3]\n",
            " [2 0 1]\n",
            " [4 1 4]\n",
            " [2 1 0]]\n",
            "[[2 3 1]\n",
            " [2 1 0]\n",
            " [1 3 0]\n",
            " [4 3 4]\n",
            " [2 3 4]\n",
            " [0 3 0]\n",
            " [1 2 3]\n",
            " [2 0 1]\n",
            " [4 1 4]\n",
            " [2 1 0]]\n"
          ]
        }
      ],
      "source": [
        "Z = np.random.randint(0,5,(10,3))\n",
        "print(Z)\n",
        "\n",
        "E = np.all(Z[:,1:] == Z[:,:-1], axis=1)\n",
        "U = Z[~E]\n",
        "print(U)\n",
        "\n",
        "U = Z[Z.max(axis=1) != Z.min(axis=1),:]\n",
        "print(U)"
      ]
    },
    {
      "cell_type": "markdown",
      "metadata": {
        "id": "XMg0GpiVs8xS"
      },
      "source": [
        "#### 95. Convert a vector of ints into a matrix binary representation (★★★) \n",
        "(**hint**: np.unpackbits)"
      ]
    },
    {
      "cell_type": "code",
      "execution_count": 50,
      "metadata": {
        "id": "vxGbM4E-s8xS",
        "colab": {
          "base_uri": "https://localhost:8080/"
        },
        "outputId": "555511b7-4412-4937-f12a-fbbdee8110f3"
      },
      "outputs": [
        {
          "output_type": "stream",
          "name": "stdout",
          "text": [
            "[[0 0 0 0 0 0 0 0]\n",
            " [0 0 0 0 0 0 0 1]\n",
            " [0 0 0 0 0 0 1 0]\n",
            " [0 0 0 0 0 0 1 1]\n",
            " [0 0 0 0 1 1 1 1]\n",
            " [0 0 0 1 0 0 0 0]\n",
            " [0 0 1 0 0 0 0 0]\n",
            " [0 1 0 0 0 0 0 0]\n",
            " [1 0 0 0 0 0 0 0]]\n",
            "[[0 0 0 0 0 0 0 0]\n",
            " [0 0 0 0 0 0 0 1]\n",
            " [0 0 0 0 0 0 1 0]\n",
            " [0 0 0 0 0 0 1 1]\n",
            " [0 0 0 0 1 1 1 1]\n",
            " [0 0 0 1 0 0 0 0]\n",
            " [0 0 1 0 0 0 0 0]\n",
            " [0 1 0 0 0 0 0 0]\n",
            " [1 0 0 0 0 0 0 0]]\n"
          ]
        }
      ],
      "source": [
        "I = np.array([0, 1, 2, 3, 15, 16, 32, 64, 128])\n",
        "B = ((I.reshape(-1,1) & (2**np.arange(8))) != 0).astype(int)\n",
        "print(B[:,::-1])\n",
        "\n",
        "I = np.array([0, 1, 2, 3, 15, 16, 32, 64, 128], dtype=np.uint8)\n",
        "print(np.unpackbits(I[:, np.newaxis], axis=1))"
      ]
    },
    {
      "cell_type": "markdown",
      "metadata": {
        "id": "34mF3sJWs8xT"
      },
      "source": [
        "#### 96. Given a two dimensional array, how to extract unique rows? (★★★) \n",
        "(**hint**: np.ascontiguousarray)"
      ]
    },
    {
      "cell_type": "code",
      "execution_count": null,
      "metadata": {
        "id": "WIA2b6FMs8xT"
      },
      "outputs": [],
      "source": [
        "Z = np.random.randint(0,2,(6,3))\n",
        "T = np.ascontiguousarray(Z).view(np.dtype((np.void, Z.dtype.itemsize * Z.shape[1])))\n",
        "_, idx = np.unique(T, return_index=True)\n",
        "uZ = Z[idx]\n",
        "print(uZ)\n",
        "\n",
        "uZ = np.unique(Z, axis=0)\n",
        "print(uZ)"
      ]
    },
    {
      "cell_type": "markdown",
      "metadata": {
        "id": "dGQ0zyRms8xU"
      },
      "source": [
        "#### 97. Considering 2 vectors A & B, write the einsum equivalent of inner, outer, sum, and mul function (★★★) \n",
        "(**hint**: np.einsum)"
      ]
    },
    {
      "cell_type": "code",
      "execution_count": null,
      "metadata": {
        "id": "o2y6-X2bs8xU"
      },
      "outputs": [],
      "source": [
        "A = np.random.uniform(0,1,10)\n",
        "B = np.random.uniform(0,1,10)\n",
        "\n",
        "np.einsum('i->', A)      \n",
        "np.einsum('i,i->i', A, B) \n",
        "np.einsum('i,i', A, B)    \n",
        "np.einsum('i,j->ij', A, B)    "
      ]
    },
    {
      "cell_type": "markdown",
      "metadata": {
        "id": "szCtAunLs8xU"
      },
      "source": [
        "#### 98. Considering a path described by two vectors (X,Y), how to sample it using equidistant samples (★★★)? \n",
        "(**hint**: np.cumsum, np.interp)"
      ]
    },
    {
      "cell_type": "code",
      "execution_count": 51,
      "metadata": {
        "collapsed": true,
        "id": "X0oFGvOzs8xV"
      },
      "outputs": [],
      "source": [
        "phi = np.arange(0, 10*np.pi, 0.1)\n",
        "a = 1\n",
        "x = a*phi*np.cos(phi)\n",
        "y = a*phi*np.sin(phi)\n",
        "\n",
        "dr = (np.diff(x)**2 + np.diff(y)**2)**.5 # segment lengths\n",
        "r = np.zeros_like(x)\n",
        "r[1:] = np.cumsum(dr)                # integrate path\n",
        "r_int = np.linspace(0, r.max(), 200) # regular spaced path\n",
        "x_int = np.interp(r_int, r, x)       # integrate path\n",
        "y_int = np.interp(r_int, r, y)"
      ]
    },
    {
      "cell_type": "markdown",
      "metadata": {
        "id": "pU2ecwXWs8xV"
      },
      "source": [
        "#### 99. Given an integer n and a 2D array X, select from X the rows which can be interpreted as draws from a multinomial distribution with n degrees, i.e., the rows which only contain integers and which sum to n. (★★★) \n",
        "(**hint**: np.logical\\_and.reduce, np.mod)"
      ]
    },
    {
      "cell_type": "code",
      "execution_count": 52,
      "metadata": {
        "id": "5c5Qr-Y0s8xW",
        "colab": {
          "base_uri": "https://localhost:8080/"
        },
        "outputId": "3d0d7c7a-61c1-49bf-9ecd-576c22b36656"
      },
      "outputs": [
        {
          "output_type": "stream",
          "name": "stdout",
          "text": [
            "[[2. 0. 1. 1.]]\n"
          ]
        }
      ],
      "source": [
        "X = np.asarray([[1.0, 0.0, 3.0, 8.0],\n",
        "                [2.0, 0.0, 1.0, 1.0],\n",
        "                [1.5, 2.5, 1.0, 0.0]])\n",
        "n = 4\n",
        "M = np.logical_and.reduce(np.mod(X, 1) == 0, axis=-1)\n",
        "M &= (X.sum(axis=-1) == n)\n",
        "print(X[M])"
      ]
    },
    {
      "cell_type": "markdown",
      "metadata": {
        "id": "wuEmzNfbs8xX"
      },
      "source": [
        "#### 100. Compute bootstrapped 95% confidence intervals for the mean of a 1D array X (i.e., resample the elements of an array with replacement N times, compute the mean of each sample, and then compute percentiles over the means). (★★★) \n",
        "(**hint**: np.percentile)"
      ]
    },
    {
      "cell_type": "code",
      "execution_count": 53,
      "metadata": {
        "id": "rT3BQ_UXs8xX",
        "colab": {
          "base_uri": "https://localhost:8080/"
        },
        "outputId": "581bf968-26f8-4a54-cd55-3d193f33a7e9"
      },
      "outputs": [
        {
          "output_type": "stream",
          "name": "stdout",
          "text": [
            "[-0.22267848  0.18752079]\n"
          ]
        }
      ],
      "source": [
        "X = np.random.randn(100) \n",
        "N = 1000 \n",
        "idx = np.random.randint(0, X.size, (N, X.size))\n",
        "means = X[idx].mean(axis=1)\n",
        "confint = np.percentile(means, [2.5, 97.5])\n",
        "print(confint)"
      ]
    }
  ],
  "metadata": {
    "kernelspec": {
      "display_name": "Python 3",
      "language": "python",
      "name": "python3"
    },
    "language_info": {
      "codemirror_mode": {
        "name": "ipython",
        "version": 3
      },
      "file_extension": ".py",
      "mimetype": "text/x-python",
      "name": "python",
      "nbconvert_exporter": "python",
      "pygments_lexer": "ipython3",
      "version": "3.8.3"
    },
    "colab": {
      "name": "_Numpy_tasks.ipynb",
      "provenance": [],
      "include_colab_link": true
    }
  },
  "nbformat": 4,
  "nbformat_minor": 0
}